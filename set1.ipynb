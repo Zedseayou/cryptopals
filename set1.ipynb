{
 "cells": [
  {
   "cell_type": "code",
   "execution_count": 1,
   "metadata": {},
   "outputs": [],
   "source": [
    "%load_ext autoreload\n",
    "%autoreload 2"
   ]
  },
  {
   "cell_type": "code",
   "execution_count": 2,
   "metadata": {},
   "outputs": [],
   "source": [
    "import binascii as ba"
   ]
  },
  {
   "cell_type": "code",
   "execution_count": 3,
   "metadata": {},
   "outputs": [],
   "source": [
    "import numpy as np"
   ]
  },
  {
   "cell_type": "code",
   "execution_count": 4,
   "metadata": {},
   "outputs": [],
   "source": [
    "import pandas as pd"
   ]
  },
  {
   "cell_type": "code",
   "execution_count": 5,
   "metadata": {},
   "outputs": [],
   "source": [
    "import itertools as it"
   ]
  },
  {
   "cell_type": "code",
   "execution_count": 6,
   "metadata": {},
   "outputs": [],
   "source": [
    "import set1"
   ]
  },
  {
   "cell_type": "code",
   "execution_count": 7,
   "metadata": {},
   "outputs": [],
   "source": [
    "import operator"
   ]
  },
  {
   "cell_type": "code",
   "execution_count": 8,
   "metadata": {},
   "outputs": [],
   "source": [
    "import pprint"
   ]
  },
  {
   "cell_type": "code",
   "execution_count": 9,
   "metadata": {},
   "outputs": [],
   "source": [
    "from cryptography.hazmat.primitives.ciphers import Cipher, algorithms, modes\n",
    "from cryptography.hazmat.backends import default_backend"
   ]
  },
  {
   "cell_type": "markdown",
   "metadata": {},
   "source": [
    "# 1. Convert hex to base64\n",
    "\n",
    "The string:\n",
    "\n",
    "    49276d206b696c6c696e6720796f757220627261696e206c696b65206120706f69736f6e6f7573206d757368726f6f6d\n",
    "\n",
    "Should produce:\n",
    "\n",
    "    SSdtIGtpbGxpbmcgeW91ciBicmFpbiBsaWtlIGEgcG9pc29ub3VzIG11c2hyb29t\n",
    "\n",
    "So go ahead and make that happen. You'll need to use this code for the rest of the exercises. "
   ]
  },
  {
   "cell_type": "code",
   "execution_count": 10,
   "metadata": {},
   "outputs": [],
   "source": [
    "q1_input = \"49276d206b696c6c696e6720796f757220627261696e206c696b65206120706f69736f6e6f7573206d757368726f6f6d\"\n",
    "q1_output = \"SSdtIGtpbGxpbmcgeW91ciBicmFpbiBsaWtlIGEgcG9pc29ub3VzIG11c2hyb29t\""
   ]
  },
  {
   "cell_type": "code",
   "execution_count": 32,
   "metadata": {},
   "outputs": [
    {
     "name": "stdout",
     "output_type": "stream",
     "text": [
      "b\"I'm killing your brain like a poisonous mushroom\"\n",
      "b'SSdtIGtpbGxpbmcgeW91ciBicmFpbiBsaWtlIGEgcG9pc29ub3VzIG11c2hyb29t'\n",
      "It is True that answer matches desired output\n"
     ]
    }
   ],
   "source": [
    "q1_ans = set1.hex_to_b64(q1_input)\n",
    "print(ba.a2b_hex(q1_input))\n",
    "print(q1_ans)\n",
    "print(f\"It is {set1.byte_to_str(q1_ans) == q1_output} that answer matches desired output\")"
   ]
  },
  {
   "cell_type": "markdown",
   "metadata": {},
   "source": [
    "# 2. Fixed XOR\n",
    "\n",
    "Write a function that takes two equal-length buffers and produces their XOR combination.\n",
    "\n",
    "If your function works properly, then when you feed it the string:\n",
    "\n",
    "    1c0111001f010100061a024b53535009181c\n",
    "\n",
    "... after hex decoding, and when XOR'd against:\n",
    "\n",
    "    686974207468652062756c6c277320657965\n",
    "\n",
    "... should produce:\n",
    "\n",
    "    746865206b696420646f6e277420706c6179\n",
    "\n"
   ]
  },
  {
   "cell_type": "code",
   "execution_count": 12,
   "metadata": {},
   "outputs": [],
   "source": [
    "q2_input1 = \"1c0111001f010100061a024b53535009181c\"\n",
    "q2_input2 = \"686974207468652062756c6c277320657965\"\n",
    "q2_output = \"746865206b696420646f6e277420706c6179\""
   ]
  },
  {
   "cell_type": "code",
   "execution_count": 34,
   "metadata": {},
   "outputs": [
    {
     "name": "stdout",
     "output_type": "stream",
     "text": [
      "b\"the kid don't play\"\n",
      "b'746865206b696420646f6e277420706c6179'\n",
      "It is True that answer matches desired output\n"
     ]
    }
   ],
   "source": [
    "q2_ans = set1.fixed_xor(ba.a2b_hex(q2_input1), ba.a2b_hex(q2_input2))\n",
    "print(q2_ans)\n",
    "print(ba.b2a_hex(q2_ans))\n",
    "print(f\"It is {set1.byte_to_str(ba.b2a_hex(q2_ans)) == q2_output} that answer matches desired output\")"
   ]
  },
  {
   "cell_type": "markdown",
   "metadata": {},
   "source": [
    "# 3. Single-byte XOR cipher\n",
    " The hex encoded string:\n",
    "\n",
    "     1b37373331363f78151b7f2b783431333d78397828372d363c78373e783a393b3736\n",
    "\n",
    "... has been XOR'd against a single character. Find the key, decrypt the message.\n",
    "\n",
    "You can do this by hand. But don't: write code to do it for you.\n",
    "\n",
    "How? Devise some method for \"scoring\" a piece of English plaintext. Character frequency is a good metric. Evaluate each output and choose the one with the best score. "
   ]
  },
  {
   "cell_type": "code",
   "execution_count": 14,
   "metadata": {},
   "outputs": [],
   "source": [
    "q3_input = \"1b37373331363f78151b7f2b783431333d78397828372d363c78373e783a393b3736\""
   ]
  },
  {
   "cell_type": "code",
   "execution_count": 15,
   "metadata": {},
   "outputs": [
    {
     "data": {
      "text/plain": [
       "xor_int                                           88\n",
       "xor_chr                                            X\n",
       "xored_bytes    b\"Cooking MC's like a pound of bacon\"\n",
       "ascii_frac                                         1\n",
       "xor_bcoef                                   0.797015\n",
       "Name: 56, dtype: object"
      ]
     },
     "execution_count": 15,
     "metadata": {},
     "output_type": "execute_result"
    }
   ],
   "source": [
    "set1.best_eng_onebyte(ba.a2b_hex(q3_input), 1).squeeze()"
   ]
  },
  {
   "cell_type": "markdown",
   "metadata": {},
   "source": [
    "# 4. Detect single-character XOR\n",
    "\n",
    "One of the 60-character strings in [this file](https://cryptopals.com/static/challenge-df/4.txt) has been encrypted by single-character XOR.\n",
    "\n",
    "Find it.\n",
    "\n",
    "(Your code from #3 should help.)\n"
   ]
  },
  {
   "cell_type": "code",
   "execution_count": 16,
   "metadata": {},
   "outputs": [
    {
     "data": {
      "text/plain": [
       "0    0e3647e8592d35514a081243582536ed3de6734059001e...\n",
       "1    334b041de124f73c18011a50e608097ac308ecee501337...\n",
       "2    40e127f51c10031d0133590b1e490f3514e05a54143d08...\n",
       "3    45440b171d5c1b21342e021c3a0eee7373215c4024f0eb...\n",
       "4    22015e420b07ef21164d5935e82338452f42282c1836e4...\n",
       "dtype: object"
      ]
     },
     "execution_count": 16,
     "metadata": {},
     "output_type": "execute_result"
    }
   ],
   "source": [
    "with open(\"data/q4.txt\") as q4_file:\n",
    "    q4_text = pd.Series(q4_file.read().split())\n",
    "    \n",
    "q4_text.head()"
   ]
  },
  {
   "cell_type": "code",
   "execution_count": 17,
   "metadata": {},
   "outputs": [],
   "source": [
    "q4_output = q4_text.apply(ba.a2b_hex).apply(lambda x: set1.best_eng_onebyte(x, 1).squeeze())"
   ]
  },
  {
   "cell_type": "code",
   "execution_count": 18,
   "metadata": {},
   "outputs": [
    {
     "data": {
      "text/html": [
       "<div>\n",
       "<style scoped>\n",
       "    .dataframe tbody tr th:only-of-type {\n",
       "        vertical-align: middle;\n",
       "    }\n",
       "\n",
       "    .dataframe tbody tr th {\n",
       "        vertical-align: top;\n",
       "    }\n",
       "\n",
       "    .dataframe thead th {\n",
       "        text-align: right;\n",
       "    }\n",
       "</style>\n",
       "<table border=\"1\" class=\"dataframe\">\n",
       "  <thead>\n",
       "    <tr style=\"text-align: right;\">\n",
       "      <th></th>\n",
       "      <th>xor_int</th>\n",
       "      <th>xor_chr</th>\n",
       "      <th>xored_bytes</th>\n",
       "      <th>ascii_frac</th>\n",
       "      <th>xor_bcoef</th>\n",
       "    </tr>\n",
       "  </thead>\n",
       "  <tbody>\n",
       "    <tr>\n",
       "      <th>187</th>\n",
       "      <td>77</td>\n",
       "      <td>M</td>\n",
       "      <td>b'\\xaf\\x14Na\\t\\x06DSc\\x04mOrW1\\xa9DEh\\x1fe\\xae...</td>\n",
       "      <td>0.666667</td>\n",
       "      <td>0.862905</td>\n",
       "    </tr>\n",
       "  </tbody>\n",
       "</table>\n",
       "</div>"
      ],
      "text/plain": [
       "     xor_int xor_chr                                        xored_bytes  \\\n",
       "187       77       M  b'\\xaf\\x14Na\\t\\x06DSc\\x04mOrW1\\xa9DEh\\x1fe\\xae...   \n",
       "\n",
       "     ascii_frac  xor_bcoef  \n",
       "187    0.666667   0.862905  "
      ]
     },
     "execution_count": 18,
     "metadata": {},
     "output_type": "execute_result"
    }
   ],
   "source": [
    "# q4_output.sort_values(\"xor_bcoef\", ascending=False)\n",
    "# q4_output.iloc[q4_output.xor_bcoef.idxmax()]\n",
    "q4_output.nlargest(1, 'xor_bcoef')"
   ]
  },
  {
   "cell_type": "markdown",
   "metadata": {},
   "source": [
    "# 5. Implement repeating-key XOR\n",
    "\n",
    "Here is the opening stanza of an important work of the English language:\n",
    "\n",
    "    Burning 'em, if you ain't quick and nimble\n",
    "    I go crazy when I hear a cymbal\n",
    "\n",
    "Encrypt it, under the key \"ICE\", using repeating-key XOR.\n",
    "\n",
    "In repeating-key XOR, you'll sequentially apply each byte of the key; the first byte of plaintext will be XOR'd against I, the next C, the next E, then I again for the 4th byte, and so on.\n",
    "\n",
    "It should come out to:\n",
    "\n",
    "    0b3637272a2b2e63622c2e69692a23693a2a3c6324202d623d63343c2a26226324272765272\n",
    "    a282b2f20430a652e2c652a3124333a653e2b2027630c692b20283165286326302e27282f\n",
    "\n",
    "Encrypt a bunch of stuff using your repeating-key XOR function. Encrypt your mail. Encrypt your password file. Your .sig file. Get a feel for it. I promise, we aren't wasting your time with this.\n"
   ]
  },
  {
   "cell_type": "code",
   "execution_count": 19,
   "metadata": {},
   "outputs": [],
   "source": [
    "q5_input = \"Burning 'em, if you ain't quick and nimble\\nI go crazy when I hear a cymbal\"\n",
    "q5_output = \"0b3637272a2b2e63622c2e69692a23693a2a3c6324202d623d63343c2a26226324272765272a282b2f20430a652e2c652a3124333a653e2b2027630c692b20283165286326302e27282f\""
   ]
  },
  {
   "cell_type": "code",
   "execution_count": 35,
   "metadata": {},
   "outputs": [
    {
     "name": "stdout",
     "output_type": "stream",
     "text": [
      "b'\\x0b67\\'*+.cb,.ii*#i:*<c$ -b=c4<*&\"c$\\'\\'e\\'*(+/ C\\ne.,e*1$3:e>+ \\'c\\x0ci+ (1e(c&0.\\'(/'\n",
      "b'0b3637272a2b2e63622c2e69692a23693a2a3c6324202d623d63343c2a26226324272765272a282b2f20430a652e2c652a3124333a653e2b2027630c692b20283165286326302e27282f'\n",
      "It is True that answer matches desired output\n"
     ]
    }
   ],
   "source": [
    "# q5_ans = [set1.repeat_xor(s, \"ICE\") for s in q5_input[0]]\n",
    "q5_ans = set1.repeat_xor(bytes(q5_input, \"ascii\"), \"ICE\")\n",
    "print(q5_ans)\n",
    "print(ba.b2a_hex(q5_ans))\n",
    "print(f\"It is {set1.byte_to_str(ba.b2a_hex(q5_ans)) == q5_output} that answer matches desired output\")"
   ]
  },
  {
   "cell_type": "markdown",
   "metadata": {},
   "source": [
    "# 6. Break repeating-key XOR\n",
    ">It is officially on, now.\n",
    "\n",
    ">This challenge isn't conceptually hard, but it involves actual error-prone coding. The other challenges in this set are there to bring you up to speed. This one is there to qualify you. If you can do this one, you're probably just fine up to Set 6.\n",
    "\n",
    "[There's a file here](https://cryptopals.com/static/challenge-data/6.txt). It's been base64'd after being encrypted with repeating-key XOR.\n",
    "\n",
    "Decrypt it.\n",
    "\n",
    "Here's how:\n",
    "\n",
    "1. Let KEYSIZE be the guessed length of the key; try values from 2 to (say) 40.\n",
    "\n",
    "2. Write a function to compute the edit distance/Hamming distance between two strings. *The Hamming distance is just the number of differing bits.* The distance between:\n",
    "\n",
    "        this is a test\n",
    "\n",
    "    and\n",
    "\n",
    "        wokka wokka!!!\n",
    "\n",
    "    is 37. *Make sure your code agrees before you proceed.*\n",
    "\n",
    "3. For each KEYSIZE, take the *first* KEYSIZE worth of bytes, and the *second* KEYSIZE worth of bytes, and find the edit distance between them. Normalize this result by dividing by KEYSIZE.\n",
    "\n",
    "4. The KEYSIZE with the smallest normalized edit distance is probably the key. You could proceed perhaps with the smallest 2-3 KEYSIZE values. Or take 4 KEYSIZE blocks instead of 2 and average the distances.\n",
    "\n",
    "5. Now that you probably know the KEYSIZE: break the ciphertext into blocks of KEYSIZE length.\n",
    "\n",
    "6. Now transpose the blocks: make a block that is the first byte of every block, and a block that is the second byte of every block, and so on.\n",
    "\n",
    "7. Solve each block as if it was single-character XOR. You already have code to do this.\n",
    "\n",
    "8. For each block, the single-byte XOR key that produces the best looking histogram is the repeating-key XOR key byte for that block. Put them together and you have the key.\n",
    "\n",
    "This code is going to turn out to be surprisingly useful later on. Breaking repeating-key XOR (\"Vigenere\") statistically is obviously an academic exercise, a \"Crypto 101\" thing. But more people \"know how\" to break it than can *actually break it*, and a similar technique breaks something much more important. "
   ]
  },
  {
   "cell_type": "code",
   "execution_count": 36,
   "metadata": {},
   "outputs": [
    {
     "name": "stdout",
     "output_type": "stream",
     "text": [
      "37\n",
      "It is True that answer matches desired output\n"
     ]
    }
   ],
   "source": [
    "q6b_ans = set1.hamming_dist(\"this is a test\", \"wokka wokka!!!\")\n",
    "print(q6b_ans)\n",
    "print(f\"It is {q6b_ans == 37} that answer matches desired output\")"
   ]
  },
  {
   "cell_type": "code",
   "execution_count": 22,
   "metadata": {},
   "outputs": [
    {
     "name": "stdout",
     "output_type": "stream",
     "text": [
      "HUIfTQsPAh9PE048GmllH0kcDk4TAQsH\n"
     ]
    }
   ],
   "source": [
    "with open(\"data/q6.txt\") as q6_file:\n",
    "    q6_text = q6_file.read().replace(\"\\n\", \"\")\n",
    "    \n",
    "print(q6_text[:32])"
   ]
  },
  {
   "cell_type": "code",
   "execution_count": 23,
   "metadata": {},
   "outputs": [
    {
     "name": "stdout",
     "output_type": "stream",
     "text": [
      "[29, 66, 31, 77, 11, 15, 2, 31, 79, 19]\n"
     ]
    }
   ],
   "source": [
    "q6_ints = list(ba.a2b_base64(q6_text))\n",
    "print(q6_ints[:10])"
   ]
  },
  {
   "cell_type": "code",
   "execution_count": 51,
   "metadata": {},
   "outputs": [
    {
     "name": "stdout",
     "output_type": "stream",
     "text": [
      "    keysize   norm_dist\n",
      "27       29  159.689655\n",
      "0         2  167.500000\n",
      "13       15  181.400000\n",
      "6         8  183.250000\n",
      "12       14  185.928571\n",
      "The best fitting key size is 29\n"
     ]
    }
   ],
   "source": [
    "q6c_ans = pd.DataFrame({'keysize': range(2, 40)})\n",
    "q6c_ans = q6c_ans.assign(norm_dist=q6c_ans.keysize.apply(lambda b: set1.norm_keysize(q6_ints, b, 4)))\n",
    "print(q6c_ans.nsmallest(5, 'norm_dist'))\n",
    "print(f\"The best fitting key size is {q6c_ans.nsmallest(1, 'norm_dist').keysize.reset_index(drop=True)[0]}\")"
   ]
  },
  {
   "cell_type": "code",
   "execution_count": 53,
   "metadata": {},
   "outputs": [
    {
     "data": {
      "text/html": [
       "<div>\n",
       "<style scoped>\n",
       "    .dataframe tbody tr th:only-of-type {\n",
       "        vertical-align: middle;\n",
       "    }\n",
       "\n",
       "    .dataframe tbody tr th {\n",
       "        vertical-align: top;\n",
       "    }\n",
       "\n",
       "    .dataframe thead th {\n",
       "        text-align: right;\n",
       "    }\n",
       "</style>\n",
       "<table border=\"1\" class=\"dataframe\">\n",
       "  <thead>\n",
       "    <tr style=\"text-align: right;\">\n",
       "      <th></th>\n",
       "      <th>chunk_num</th>\n",
       "      <th>chunk</th>\n",
       "      <th>xor_chr</th>\n",
       "    </tr>\n",
       "  </thead>\n",
       "  <tbody>\n",
       "    <tr>\n",
       "      <th>0</th>\n",
       "      <td>0</td>\n",
       "      <td>[29, 54, 60, 55, 56, 116, 58, 53, 116, 38, 59,...</td>\n",
       "      <td>T</td>\n",
       "    </tr>\n",
       "    <tr>\n",
       "      <th>1</th>\n",
       "      <td>1</td>\n",
       "      <td>[66, 0, 12, 22, 69, 4, 1, 11, 11, 16, 16, 12, ...</td>\n",
       "      <td>E</td>\n",
       "    </tr>\n",
       "    <tr>\n",
       "      <th>2</th>\n",
       "      <td>2</td>\n",
       "      <td>[31, 30, 30, 6, 6, 30, 82, 27, 29, 21, 6, 6, 1...</td>\n",
       "      <td>R</td>\n",
       "    </tr>\n",
       "    <tr>\n",
       "      <th>3</th>\n",
       "      <td>3</td>\n",
       "      <td>[77, 1, 8, 12, 5, 1, 25, 1, 25, 77, 5, 77, 77,...</td>\n",
       "      <td>M</td>\n",
       "    </tr>\n",
       "    <tr>\n",
       "      <th>4</th>\n",
       "      <td>4</td>\n",
       "      <td>[11, 73, 73, 26, 8, 73, 1, 5, 73, 2, 73, 15, 2...</td>\n",
       "      <td>I</td>\n",
       "    </tr>\n",
       "    <tr>\n",
       "      <th>5</th>\n",
       "      <td>5</td>\n",
       "      <td>[15, 100, 26, 23, 26, 26, 11, 15, 2, 7, 15, 2,...</td>\n",
       "      <td>N</td>\n",
       "    </tr>\n",
       "    <tr>\n",
       "      <th>6</th>\n",
       "      <td>6</td>\n",
       "      <td>[2, 32, 9, 65, 70, 9, 65, 70, 0, 2, 15, 14, 18...</td>\n",
       "      <td>A</td>\n",
       "    </tr>\n",
       "    <tr>\n",
       "      <th>7</th>\n",
       "      <td>7</td>\n",
       "      <td>[31, 84, 17, 29, 7, 17, 19, 7, 14, 31, 16, 3, ...</td>\n",
       "      <td>T</td>\n",
       "    </tr>\n",
       "    <tr>\n",
       "      <th>8</th>\n",
       "      <td>8</td>\n",
       "      <td>[79, 29, 79, 1, 79, 2, 6, 79, 22, 79, 79, 67, ...</td>\n",
       "      <td>O</td>\n",
       "    </tr>\n",
       "    <tr>\n",
       "      <th>9</th>\n",
       "      <td>9</td>\n",
       "      <td>[19, 29, 20, 82, 31, 82, 0, 29, 92, 27, 59, 82...</td>\n",
       "      <td>R</td>\n",
       "    </tr>\n",
       "    <tr>\n",
       "      <th>10</th>\n",
       "      <td>10</td>\n",
       "      <td>[78, 67, 76, 84, 89, 122, 76, 78, 0, 78, 0, 76...</td>\n",
       "      <td></td>\n",
       "    </tr>\n",
       "    <tr>\n",
       "      <th>11</th>\n",
       "      <td>11</td>\n",
       "      <td>[60, 51, 33, 48, 120, 127, 49, 120, 82, 120, 5...</td>\n",
       "      <td>X</td>\n",
       "    </tr>\n",
       "    <tr>\n",
       "      <th>12</th>\n",
       "      <td>12</td>\n",
       "      <td>[26, 83, 26, 95, 126, 73, 95, 78, 48, 48, 95, ...</td>\n",
       "      <td>:</td>\n",
       "    </tr>\n",
       "    <tr>\n",
       "      <th>13</th>\n",
       "      <td>13</td>\n",
       "      <td>[105, 78, 71, 0, 106, 0, 83, 72, 105, 105, 71,...</td>\n",
       "      <td></td>\n",
       "    </tr>\n",
       "    <tr>\n",
       "      <th>14</th>\n",
       "      <td>14</td>\n",
       "      <td>[101, 101, 43, 32, 98, 72, 98, 39, 101, 54, 43...</td>\n",
       "      <td>B</td>\n",
       "    </tr>\n",
       "    <tr>\n",
       "      <th>15</th>\n",
       "      <td>15</td>\n",
       "      <td>[31, 82, 0, 19, 54, 58, 21, 82, 31, 82, 28, 11...</td>\n",
       "      <td>R</td>\n",
       "    </tr>\n",
       "    <tr>\n",
       "      <th>16</th>\n",
       "      <td>16</td>\n",
       "      <td>[73, 6, 5, 10, 12, 0, 6, 4, 73, 10, 73, 73, 1,...</td>\n",
       "      <td>I</td>\n",
       "    </tr>\n",
       "    <tr>\n",
       "      <th>17</th>\n",
       "      <td>17</td>\n",
       "      <td>[28, 0, 29, 5, 29, 26, 7, 7, 2, 1, 100, 13, 11...</td>\n",
       "      <td>N</td>\n",
       "    </tr>\n",
       "    <tr>\n",
       "      <th>18</th>\n",
       "      <td>18</td>\n",
       "      <td>[14, 71, 71, 71, 15, 19, 9, 12, 2, 9, 51, 8, 7...</td>\n",
       "      <td>G</td>\n",
       "    </tr>\n",
       "    <tr>\n",
       "      <th>19</th>\n",
       "      <td>19</td>\n",
       "      <td>[78, 84, 89, 79, 65, 73, 7, 69, 84, 84, 79, 78...</td>\n",
       "      <td></td>\n",
       "    </tr>\n",
       "    <tr>\n",
       "      <th>20</th>\n",
       "      <td>20</td>\n",
       "      <td>[19, 28, 17, 18, 13, 26, 84, 88, 0, 6, 84, 23,...</td>\n",
       "      <td>T</td>\n",
       "    </tr>\n",
       "    <tr>\n",
       "      <th>21</th>\n",
       "      <td>21</td>\n",
       "      <td>[1, 13, 4, 72, 72, 79, 11, 72, 1, 7, 2, 13, 12...</td>\n",
       "      <td>H</td>\n",
       "    </tr>\n",
       "    <tr>\n",
       "      <th>22</th>\n",
       "      <td>22</td>\n",
       "      <td>[11, 69, 9, 8, 6, 69, 23, 8, 11, 9, 16, 21, 0,...</td>\n",
       "      <td>E</td>\n",
       "    </tr>\n",
       "    <tr>\n",
       "      <th>23</th>\n",
       "      <td>23</td>\n",
       "      <td>[7, 77, 0, 69, 85, 72, 65, 65, 7, 83, 83, 84, ...</td>\n",
       "      <td></td>\n",
       "    </tr>\n",
       "    <tr>\n",
       "      <th>24</th>\n",
       "      <td>24</td>\n",
       "      <td>[78, 7, 100, 78, 26, 15, 20, 0, 78, 78, 26, 29...</td>\n",
       "      <td>N</td>\n",
       "    </tr>\n",
       "    <tr>\n",
       "      <th>25</th>\n",
       "      <td>25</td>\n",
       "      <td>[27, 4, 38, 101, 27, 29, 22, 79, 2, 2, 79, 79,...</td>\n",
       "      <td>O</td>\n",
       "    </tr>\n",
       "    <tr>\n",
       "      <th>26</th>\n",
       "      <td>26</td>\n",
       "      <td>[1, 12, 7, 62, 0, 13, 73, 32, 16, 16, 5, 14, 5...</td>\n",
       "      <td>I</td>\n",
       "    </tr>\n",
       "    <tr>\n",
       "      <th>27</th>\n",
       "      <td>27</td>\n",
       "      <td>[22, 83, 83, 22, 29, 83, 121, 84, 83, 83, 22, ...</td>\n",
       "      <td>S</td>\n",
       "    </tr>\n",
       "    <tr>\n",
       "      <th>28</th>\n",
       "      <td>28</td>\n",
       "      <td>[69, 18, 0, 9, 66, 4, 51, 8, 1, 8, 17, 69, 12,...</td>\n",
       "      <td>E</td>\n",
       "    </tr>\n",
       "  </tbody>\n",
       "</table>\n",
       "</div>"
      ],
      "text/plain": [
       "    chunk_num                                              chunk xor_chr\n",
       "0           0  [29, 54, 60, 55, 56, 116, 58, 53, 116, 38, 59,...       T\n",
       "1           1  [66, 0, 12, 22, 69, 4, 1, 11, 11, 16, 16, 12, ...       E\n",
       "2           2  [31, 30, 30, 6, 6, 30, 82, 27, 29, 21, 6, 6, 1...       R\n",
       "3           3  [77, 1, 8, 12, 5, 1, 25, 1, 25, 77, 5, 77, 77,...       M\n",
       "4           4  [11, 73, 73, 26, 8, 73, 1, 5, 73, 2, 73, 15, 2...       I\n",
       "5           5  [15, 100, 26, 23, 26, 26, 11, 15, 2, 7, 15, 2,...       N\n",
       "6           6  [2, 32, 9, 65, 70, 9, 65, 70, 0, 2, 15, 14, 18...       A\n",
       "7           7  [31, 84, 17, 29, 7, 17, 19, 7, 14, 31, 16, 3, ...       T\n",
       "8           8  [79, 29, 79, 1, 79, 2, 6, 79, 22, 79, 79, 67, ...       O\n",
       "9           9  [19, 29, 20, 82, 31, 82, 0, 29, 92, 27, 59, 82...       R\n",
       "10         10  [78, 67, 76, 84, 89, 122, 76, 78, 0, 78, 0, 76...        \n",
       "11         11  [60, 51, 33, 48, 120, 127, 49, 120, 82, 120, 5...       X\n",
       "12         12  [26, 83, 26, 95, 126, 73, 95, 78, 48, 48, 95, ...       :\n",
       "13         13  [105, 78, 71, 0, 106, 0, 83, 72, 105, 105, 71,...        \n",
       "14         14  [101, 101, 43, 32, 98, 72, 98, 39, 101, 54, 43...       B\n",
       "15         15  [31, 82, 0, 19, 54, 58, 21, 82, 31, 82, 28, 11...       R\n",
       "16         16  [73, 6, 5, 10, 12, 0, 6, 4, 73, 10, 73, 73, 1,...       I\n",
       "17         17  [28, 0, 29, 5, 29, 26, 7, 7, 2, 1, 100, 13, 11...       N\n",
       "18         18  [14, 71, 71, 71, 15, 19, 9, 12, 2, 9, 51, 8, 7...       G\n",
       "19         19  [78, 84, 89, 79, 65, 73, 7, 69, 84, 84, 79, 78...        \n",
       "20         20  [19, 28, 17, 18, 13, 26, 84, 88, 0, 6, 84, 23,...       T\n",
       "21         21  [1, 13, 4, 72, 72, 79, 11, 72, 1, 7, 2, 13, 12...       H\n",
       "22         22  [11, 69, 9, 8, 6, 69, 23, 8, 11, 9, 16, 21, 0,...       E\n",
       "23         23  [7, 77, 0, 69, 85, 72, 65, 65, 7, 83, 83, 84, ...        \n",
       "24         24  [78, 7, 100, 78, 26, 15, 20, 0, 78, 78, 26, 29...       N\n",
       "25         25  [27, 4, 38, 101, 27, 29, 22, 79, 2, 2, 79, 79,...       O\n",
       "26         26  [1, 12, 7, 62, 0, 13, 73, 32, 16, 16, 5, 14, 5...       I\n",
       "27         27  [22, 83, 83, 22, 29, 83, 121, 84, 83, 83, 22, ...       S\n",
       "28         28  [69, 18, 0, 9, 66, 4, 51, 8, 1, 8, 17, 69, 12,...       E"
      ]
     },
     "execution_count": 53,
     "metadata": {},
     "output_type": "execute_result"
    }
   ],
   "source": [
    "q6_chunks = pd.DataFrame({'chunk_num': range(29)})\n",
    "q6_chunks = q6_chunks.assign(chunk=q6_chunks.chunk_num.apply(lambda x: q6_ints[x::29]))\n",
    "q6_chunks = q6_chunks.assign(xor_chr=q6_chunks.chunk.apply(\n",
    "    lambda x: set1.best_eng_onebyte(bytes(x), 1).squeeze().xor_chr\n",
    "))\n",
    "q6_key = \"\".join(q6_chunks.xor_chr)\n",
    "q6_chunks"
   ]
  },
  {
   "cell_type": "code",
   "execution_count": 54,
   "metadata": {},
   "outputs": [
    {
     "name": "stdout",
     "output_type": "stream",
     "text": [
      "I'm back and I'm ringin' the bell \n",
      "A rockin' on the mike while the fly girls yell \n",
      "In ecstasy in the back of me \n",
      "Well that's my DJ Deshay cuttin' all them Z's \n",
      "Hittin' hard and the girlies goin' crazy \n",
      "Vanilla's on the mike, man I'm not lazy. \n",
      "\n",
      "I'm lettin' my drug kick in \n",
      "It controls my mouth and I begin \n",
      "To just let it flow, let my concepts go \n",
      "My posse's to the side yellin', Go Vanilla Go! \n",
      "\n",
      "Smooth 'cause that's the way I will be \n",
      "And if you don't give a damn, then \n",
      "Why you starin' at me \n",
      "So get off 'cause I control the stage \n",
      "There's no dissin' allowed \n",
      "I'm in my own phase \n",
      "The girlies sa y they love me and that is ok \n",
      "And I can dance better than any kid n' play \n",
      "\n",
      "Stage 2 -- Yea the one ya' wanna listen to \n",
      "It's off my head so let the beat play through \n",
      "So I can funk it up and make it sound good \n",
      "1-2-3 Yo -- Knock on some wood \n",
      "For good luck, I like my rhymes atrocious \n",
      "Supercalafragilisticexpialidocious \n",
      "I'm an effect and that you can bet \n",
      "I can take a fly girl and make her wet. \n",
      "\n",
      "I'm like Samson -- Samson to Delilah \n",
      "There's no denyin', You can try to hang \n",
      "But you'll keep tryin' to get my style \n",
      "Over and over, practice makes perfect \n",
      "But not if you're a loafer. \n",
      "\n",
      "You'll get nowhere, no place, no time, no girls \n",
      "Soon -- Oh my God, homebody, you probably eat \n",
      "Spaghetti with a spoon! Come on and say it! \n",
      "\n",
      "VIP. Vanilla Ice yep, yep, I'm comin' hard like a rhino \n",
      "Intoxicating so you stagger like a wino \n",
      "So punks stop trying and girl stop cryin' \n",
      "Vanilla Ice is sellin' and you people are buyin' \n",
      "'Cause why the freaks are jockin' like Crazy Glue \n",
      "Movin' and groovin' trying to sing along \n",
      "All through the ghetto groovin' this here song \n",
      "Now you're amazed by the VIP posse. \n",
      "\n",
      "Steppin' so hard like a German Nazi \n",
      "Startled by the bases hittin' ground \n",
      "There's no trippin' on mine, I'm just gettin' down \n",
      "Sparkamatic, I'm hangin' tight like a fanatic \n",
      "You trapped me once and I thought that \n",
      "You might have it \n",
      "So step down and lend me your ear \n",
      "'89 in my time! You, '90 is my year. \n",
      "\n",
      "You're weakenin' fast, YO! and I can tell it \n",
      "Your body's gettin' hot, so, so I can smell it \n",
      "So don't be mad and don't be sad \n",
      "'Cause the lyrics belong to ICE, You can call me Dad \n",
      "You're pitchin' a fit, so step back and endure \n",
      "Let the witch doctor, Ice, do the dance to cure \n",
      "So come up close and don't be square \n",
      "You wanna battle me -- Anytime, anywhere \n",
      "\n",
      "You thought that I was weak, Boy, you're dead wrong \n",
      "So come on, everybody and sing this song \n",
      "\n",
      "Say -- Play that funky music Say, go white boy, go white boy go \n",
      "play that funky music Go white boy, go white boy, go \n",
      "Lay down and boogie and play that funky music till you die. \n",
      "\n",
      "Play that funky music Come on, Come on, let me hear \n",
      "Play that funky music white boy you say it, say it \n",
      "Play that funky music A little louder now \n",
      "Play that funky music, white boy Come on, Come on, Come on \n",
      "Play that funky music \n",
      "\n"
     ]
    }
   ],
   "source": [
    "q6_ans = set1.repeat_xor(q6_ints, \"Terminator X: Bring the noise\")\n",
    "print(set1.byte_to_str(q6_ans))"
   ]
  },
  {
   "cell_type": "markdown",
   "metadata": {},
   "source": [
    "# 7. AES in ECB mode\n",
    "\n",
    "The Base64-encoded content [in this file](https://cryptopals.com/static/challenge-data/7.txt) has been encrypted via AES-128 in ECB mode under the key\n",
    "\n",
    "    \"YELLOW SUBMARINE\".\n",
    "\n",
    "(case-sensitive, without the quotes; exactly 16 characters; I like \"YELLOW SUBMARINE\" because it's exactly 16 bytes long, and now you do too).\n",
    "\n",
    "Decrypt it. You know the key, after all.\n",
    "\n",
    "Easiest way: use OpenSSL::Cipher and give it AES-128-ECB as the cipher. "
   ]
  },
  {
   "cell_type": "code",
   "execution_count": 27,
   "metadata": {},
   "outputs": [
    {
     "name": "stdout",
     "output_type": "stream",
     "text": [
      "CRIwqt4+szDbqkNY+I0qbDe3LQz0wiw0SuxBQtAM5TDdMbjCMD/venUDW9BL\n",
      "b'\\t\\x120\\xaa\\xde>\\xb30\\xdb\\xaaCX\\xf8\\x8d*l7\\xb7-\\x0c\\xf4\\xc2,4J\\xecAB\\xd0\\x0c\\xe50\\xdd1\\xb8\\xc20?\\xefzu\\x03[\\xd0K'\n"
     ]
    }
   ],
   "source": [
    "with open(\"data/q7.txt\") as q7_file:\n",
    "    q7_text = q7_file.read()\n",
    "    q7_bytes = ba.a2b_base64(q7_text)\n",
    "    \n",
    "print(q7_text[:60])\n",
    "print(q7_bytes[:45])"
   ]
  },
  {
   "cell_type": "code",
   "execution_count": 28,
   "metadata": {},
   "outputs": [
    {
     "name": "stdout",
     "output_type": "stream",
     "text": [
      "I'm back and I'm ringin' the bell \n",
      "A rockin' on the mike while the fly girls yell \n",
      "In ecstasy in the back of me \n",
      "Well that's my DJ Deshay cuttin' all them Z's \n",
      "Hittin' hard and the girlies goin' crazy \n",
      "Vanilla's on the mike, man I'm not lazy. \n",
      "\n",
      "I'm lettin' my drug kick in \n",
      "It controls my mouth and I begin \n",
      "To just let it flow, let my concepts go \n",
      "My posse's to the side yellin', Go Vanilla Go! \n",
      "\n",
      "Smooth 'cause that's the way I will be \n",
      "And if you don't give a damn, then \n",
      "Why you starin' at me \n",
      "So get off 'cause I control the stage \n",
      "There's no dissin' allowed \n",
      "I'm in my own phase \n",
      "The girlies sa y they love me and that is ok \n",
      "And I can dance better than any kid n' play \n",
      "\n",
      "Stage 2 -- Yea the one ya' wanna listen to \n",
      "It's off my head so let the beat play through \n",
      "So I can funk it up and make it sound good \n",
      "1-2-3 Yo -- Knock on some wood \n",
      "For good luck, I like my rhymes atrocious \n",
      "Supercalafragilisticexpialidocious \n",
      "I'm an effect and that you can bet \n",
      "I can take a fly girl and make her wet. \n",
      "\n",
      "I'm like Samson -- Samson to Delilah \n",
      "There's no denyin', You can try to hang \n",
      "But you'll keep tryin' to get my style \n",
      "Over and over, practice makes perfect \n",
      "But not if you're a loafer. \n",
      "\n",
      "You'll get nowhere, no place, no time, no girls \n",
      "Soon -- Oh my God, homebody, you probably eat \n",
      "Spaghetti with a spoon! Come on and say it! \n",
      "\n",
      "VIP. Vanilla Ice yep, yep, I'm comin' hard like a rhino \n",
      "Intoxicating so you stagger like a wino \n",
      "So punks stop trying and girl stop cryin' \n",
      "Vanilla Ice is sellin' and you people are buyin' \n",
      "'Cause why the freaks are jockin' like Crazy Glue \n",
      "Movin' and groovin' trying to sing along \n",
      "All through the ghetto groovin' this here song \n",
      "Now you're amazed by the VIP posse. \n",
      "\n",
      "Steppin' so hard like a German Nazi \n",
      "Startled by the bases hittin' ground \n",
      "There's no trippin' on mine, I'm just gettin' down \n",
      "Sparkamatic, I'm hangin' tight like a fanatic \n",
      "You trapped me once and I thought that \n",
      "You might have it \n",
      "So step down and lend me your ear \n",
      "'89 in my time! You, '90 is my year. \n",
      "\n",
      "You're weakenin' fast, YO! and I can tell it \n",
      "Your body's gettin' hot, so, so I can smell it \n",
      "So don't be mad and don't be sad \n",
      "'Cause the lyrics belong to ICE, You can call me Dad \n",
      "You're pitchin' a fit, so step back and endure \n",
      "Let the witch doctor, Ice, do the dance to cure \n",
      "So come up close and don't be square \n",
      "You wanna battle me -- Anytime, anywhere \n",
      "\n",
      "You thought that I was weak, Boy, you're dead wrong \n",
      "So come on, everybody and sing this song \n",
      "\n",
      "Say -- Play that funky music Say, go white boy, go white boy go \n",
      "play that funky music Go white boy, go white boy, go \n",
      "Lay down and boogie and play that funky music till you die. \n",
      "\n",
      "Play that funky music Come on, Come on, let me hear \n",
      "Play that funky music white boy you say it, say it \n",
      "Play that funky music A little louder now \n",
      "Play that funky music, white boy Come on, Come on, Come on \n",
      "Play that funky music \n",
      "\u0004\u0004\u0004\u0004\n"
     ]
    }
   ],
   "source": [
    "q7_ans = set1.aes_ecb(q7_bytes, bytes(\"YELLOW SUBMARINE\", 'ascii'), encrypt=False)\n",
    "print(set1.byte_to_str(q7_ans))"
   ]
  },
  {
   "cell_type": "markdown",
   "metadata": {},
   "source": [
    "# 8. Detect AES in ECB mode\n",
    "\n",
    "[In this file](https://cryptopals.com/static/challenge-data/8.txt) are a bunch of hex-encoded ciphertexts.\n",
    "\n",
    "One of them has been encrypted with ECB.\n",
    "\n",
    "Detect it.\n",
    "\n",
    "Remember that the problem with ECB is that it is stateless and deterministic; the same 16 byte plaintext block will always produce the same 16 byte ciphertext.\n"
   ]
  }
 ],
 "metadata": {
  "kernelspec": {
   "display_name": "Python 3",
   "language": "python",
   "name": "python3"
  },
  "language_info": {
   "codemirror_mode": {
    "name": "ipython",
    "version": 3
   },
   "file_extension": ".py",
   "mimetype": "text/x-python",
   "name": "python",
   "nbconvert_exporter": "python",
   "pygments_lexer": "ipython3",
   "version": "3.6.5"
  }
 },
 "nbformat": 4,
 "nbformat_minor": 2
}
