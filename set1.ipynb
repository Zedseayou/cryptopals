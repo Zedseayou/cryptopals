{
 "cells": [
  {
   "cell_type": "code",
   "execution_count": 1,
   "metadata": {},
   "outputs": [],
   "source": [
    "%load_ext autoreload\n",
    "%autoreload 2"
   ]
  },
  {
   "cell_type": "code",
   "execution_count": 2,
   "metadata": {},
   "outputs": [],
   "source": [
    "import binascii as ba"
   ]
  },
  {
   "cell_type": "code",
   "execution_count": 3,
   "metadata": {},
   "outputs": [],
   "source": [
    "import numpy as np"
   ]
  },
  {
   "cell_type": "code",
   "execution_count": 4,
   "metadata": {},
   "outputs": [],
   "source": [
    "import pandas as pd"
   ]
  },
  {
   "cell_type": "code",
   "execution_count": 5,
   "metadata": {},
   "outputs": [],
   "source": [
    "import itertools as it"
   ]
  },
  {
   "cell_type": "code",
   "execution_count": 7,
   "metadata": {},
   "outputs": [],
   "source": [
    "import set1"
   ]
  },
  {
   "cell_type": "code",
   "execution_count": 8,
   "metadata": {},
   "outputs": [],
   "source": [
    "import operator"
   ]
  },
  {
   "cell_type": "code",
   "execution_count": 9,
   "metadata": {},
   "outputs": [],
   "source": [
    "import pprint"
   ]
  },
  {
   "cell_type": "markdown",
   "metadata": {},
   "source": [
    "# 1. Convert hex to base64\n",
    "\n",
    "The string:\n",
    "\n",
    "    49276d206b696c6c696e6720796f757220627261696e206c696b65206120706f69736f6e6f7573206d757368726f6f6d\n",
    "\n",
    "Should produce:\n",
    "\n",
    "    SSdtIGtpbGxpbmcgeW91ciBicmFpbiBsaWtlIGEgcG9pc29ub3VzIG11c2hyb29t\n",
    "\n",
    "So go ahead and make that happen. You'll need to use this code for the rest of the exercises. "
   ]
  },
  {
   "cell_type": "code",
   "execution_count": 65,
   "metadata": {},
   "outputs": [],
   "source": [
    "q1_input = \"49276d206b696c6c696e6720796f757220627261696e206c696b65206120706f69736f6e6f7573206d757368726f6f6d\"\n",
    "q1_output = \"SSdtIGtpbGxpbmcgeW91ciBicmFpbiBsaWtlIGEgcG9pc29ub3VzIG11c2hyb29t\""
   ]
  },
  {
   "cell_type": "code",
   "execution_count": 80,
   "metadata": {},
   "outputs": [
    {
     "name": "stdout",
     "output_type": "stream",
     "text": [
      "b\"I'm killing your brain like a poisonous mushroom\"\n",
      "b'SSdtIGtpbGxpbmcgeW91ciBicmFpbiBsaWtlIGEgcG9pc29ub3VzIG11c2hyb29t'\n",
      "It is True that answer matches desired output\n"
     ]
    }
   ],
   "source": [
    "q1_ans = set1.hex_to_b64(q1_input)\n",
    "print(ba.a2b_hex(q1_input))\n",
    "print(q1_ans)\n",
    "print(\"It is %s that answer matches desired output\" % str(set1.byte_to_str(q1_ans) == q1_output))"
   ]
  },
  {
   "cell_type": "markdown",
   "metadata": {},
   "source": [
    "# 2. Fixed XOR\n",
    "\n",
    "Write a function that takes two equal-length buffers and produces their XOR combination.\n",
    "\n",
    "If your function works properly, then when you feed it the string:\n",
    "\n",
    "    1c0111001f010100061a024b53535009181c\n",
    "\n",
    "... after hex decoding, and when XOR'd against:\n",
    "\n",
    "    686974207468652062756c6c277320657965\n",
    "\n",
    "... should produce:\n",
    "\n",
    "    746865206b696420646f6e277420706c6179\n",
    "\n"
   ]
  },
  {
   "cell_type": "code",
   "execution_count": 67,
   "metadata": {},
   "outputs": [],
   "source": [
    "q2_input1 = \"1c0111001f010100061a024b53535009181c\"\n",
    "q2_input2 = \"686974207468652062756c6c277320657965\"\n",
    "q2_output = \"746865206b696420646f6e277420706c6179\""
   ]
  },
  {
   "cell_type": "code",
   "execution_count": 79,
   "metadata": {},
   "outputs": [
    {
     "name": "stdout",
     "output_type": "stream",
     "text": [
      "b\"the kid don't play\"\n",
      "b'746865206b696420646f6e277420706c6179'\n",
      "It is True that answer matches desired output\n"
     ]
    }
   ],
   "source": [
    "q2_ans = set1.fixed_xor(ba.a2b_hex(q2_input1), ba.a2b_hex(q2_input2))\n",
    "print(q2_ans)\n",
    "print(ba.b2a_hex(q2_ans))\n",
    "print(\"It is %s that answer matches desired output\" % str(set1.byte_to_str(ba.b2a_hex(q2_ans)) == q2_output))"
   ]
  },
  {
   "cell_type": "markdown",
   "metadata": {},
   "source": [
    "# 3. Single-byte XOR cipher\n",
    " The hex encoded string:\n",
    "\n",
    "     1b37373331363f78151b7f2b783431333d78397828372d363c78373e783a393b3736\n",
    "\n",
    "... has been XOR'd against a single character. Find the key, decrypt the message.\n",
    "\n",
    "You can do this by hand. But don't: write code to do it for you.\n",
    "\n",
    "How? Devise some method for \"scoring\" a piece of English plaintext. Character frequency is a good metric. Evaluate each output and choose the one with the best score. "
   ]
  },
  {
   "cell_type": "code",
   "execution_count": 81,
   "metadata": {},
   "outputs": [],
   "source": [
    "q3_input = \"1b37373331363f78151b7f2b783431333d78397828372d363c78373e783a393b3736\""
   ]
  },
  {
   "cell_type": "code",
   "execution_count": 111,
   "metadata": {},
   "outputs": [
    {
     "data": {
      "text/plain": [
       "xor_int                                           88\n",
       "xor_chr                                            X\n",
       "xored_bytes    b\"Cooking MC's like a pound of bacon\"\n",
       "ascii_frac                                         1\n",
       "xor_bcoef                                   0.797015\n",
       "Name: 56, dtype: object"
      ]
     },
     "execution_count": 111,
     "metadata": {},
     "output_type": "execute_result"
    }
   ],
   "source": [
    "set1.best_eng_onebyte(ba.a2b_hex(q3_input), 1).squeeze()"
   ]
  },
  {
   "cell_type": "markdown",
   "metadata": {},
   "source": [
    "# 4. Detect single-character XOR\n",
    "\n",
    "One of the 60-character strings in [this file](https://cryptopals.com/static/challenge-df/4.txt) has been encrypted by single-character XOR.\n",
    "\n",
    "Find it.\n",
    "\n",
    "(Your code from #3 should help.)\n"
   ]
  },
  {
   "cell_type": "code",
   "execution_count": 90,
   "metadata": {},
   "outputs": [
    {
     "data": {
      "text/plain": [
       "0    0e3647e8592d35514a081243582536ed3de6734059001e...\n",
       "1    334b041de124f73c18011a50e608097ac308ecee501337...\n",
       "2    40e127f51c10031d0133590b1e490f3514e05a54143d08...\n",
       "3    45440b171d5c1b21342e021c3a0eee7373215c4024f0eb...\n",
       "4    22015e420b07ef21164d5935e82338452f42282c1836e4...\n",
       "dtype: object"
      ]
     },
     "execution_count": 90,
     "metadata": {},
     "output_type": "execute_result"
    }
   ],
   "source": [
    "with open(\"data/q4.txt\") as q4_file:\n",
    "    q4_text = pd.Series(q4_file.read().split())\n",
    "    \n",
    "q4_text.head()"
   ]
  },
  {
   "cell_type": "code",
   "execution_count": 113,
   "metadata": {},
   "outputs": [],
   "source": [
    "q4_output = q4_text.apply(ba.a2b_hex).apply(lambda x: set1.best_eng_onebyte(x, 1).squeeze())"
   ]
  },
  {
   "cell_type": "code",
   "execution_count": 114,
   "metadata": {},
   "outputs": [
    {
     "data": {
      "text/html": [
       "<div>\n",
       "<style scoped>\n",
       "    .dataframe tbody tr th:only-of-type {\n",
       "        vertical-align: middle;\n",
       "    }\n",
       "\n",
       "    .dataframe tbody tr th {\n",
       "        vertical-align: top;\n",
       "    }\n",
       "\n",
       "    .dataframe thead th {\n",
       "        text-align: right;\n",
       "    }\n",
       "</style>\n",
       "<table border=\"1\" class=\"dataframe\">\n",
       "  <thead>\n",
       "    <tr style=\"text-align: right;\">\n",
       "      <th></th>\n",
       "      <th>xor_int</th>\n",
       "      <th>xor_chr</th>\n",
       "      <th>xored_bytes</th>\n",
       "      <th>ascii_frac</th>\n",
       "      <th>xor_bcoef</th>\n",
       "    </tr>\n",
       "  </thead>\n",
       "  <tbody>\n",
       "    <tr>\n",
       "      <th>170</th>\n",
       "      <td>53</td>\n",
       "      <td>5</td>\n",
       "      <td>b'Now that the party is jumping\\n'</td>\n",
       "      <td>0.966667</td>\n",
       "      <td>0.842858</td>\n",
       "    </tr>\n",
       "  </tbody>\n",
       "</table>\n",
       "</div>"
      ],
      "text/plain": [
       "     xor_int xor_chr                         xored_bytes  ascii_frac  \\\n",
       "170       53       5  b'Now that the party is jumping\\n'    0.966667   \n",
       "\n",
       "     xor_bcoef  \n",
       "170   0.842858  "
      ]
     },
     "execution_count": 114,
     "metadata": {},
     "output_type": "execute_result"
    }
   ],
   "source": [
    "# q4_output.sort_values(\"xor_bcoef\", ascending=False)\n",
    "# q4_output.iloc[q4_output.xor_bcoef.idxmax()]\n",
    "q4_output.nlargest(1, 'xor_bcoef')"
   ]
  },
  {
   "cell_type": "markdown",
   "metadata": {},
   "source": [
    "# 5. Implement repeating-key XOR\n",
    "\n",
    "Here is the opening stanza of an important work of the English language:\n",
    "\n",
    "    Burning 'em, if you ain't quick and nimble\n",
    "    I go crazy when I hear a cymbal\n",
    "\n",
    "Encrypt it, under the key \"ICE\", using repeating-key XOR.\n",
    "\n",
    "In repeating-key XOR, you'll sequentially apply each byte of the key; the first byte of plaintext will be XOR'd against I, the next C, the next E, then I again for the 4th byte, and so on.\n",
    "\n",
    "It should come out to:\n",
    "\n",
    "    0b3637272a2b2e63622c2e69692a23693a2a3c6324202d623d63343c2a26226324272765272\n",
    "    a282b2f20430a652e2c652a3124333a653e2b2027630c692b20283165286326302e27282f\n",
    "\n",
    "Encrypt a bunch of stuff using your repeating-key XOR function. Encrypt your mail. Encrypt your password file. Your .sig file. Get a feel for it. I promise, we aren't wasting your time with this.\n"
   ]
  },
  {
   "cell_type": "code",
   "execution_count": 105,
   "metadata": {},
   "outputs": [],
   "source": [
    "q5_input = \"Burning 'em, if you ain't quick and nimble\\nI go crazy when I hear a cymbal\"\n",
    "q5_output = \"0b3637272a2b2e63622c2e69692a23693a2a3c6324202d623d63343c2a26226324272765272a282b2f20430a652e2c652a3124333a653e2b2027630c692b20283165286326302e27282f\""
   ]
  },
  {
   "cell_type": "code",
   "execution_count": 106,
   "metadata": {},
   "outputs": [
    {
     "name": "stdout",
     "output_type": "stream",
     "text": [
      "b'0b3637272a2b2e63622c2e69692a23693a2a3c6324202d623d63343c2a26226324272765272a282b2f20430a652e2c652a3124333a653e2b2027630c692b20283165286326302e27282f'\n",
      "It is True that answer matches desired output\n"
     ]
    }
   ],
   "source": [
    "# q5_ans = [set1.repeat_xor(s, \"ICE\") for s in q5_input[0]]\n",
    "q5_ans = set1.repeat_xor(q5_input, \"ICE\")\n",
    "print(q5_ans)\n",
    "print(\"It is %s that answer matches desired output\" % str(set1.byte_to_str(q5_ans) == q5_output))"
   ]
  },
  {
   "cell_type": "markdown",
   "metadata": {},
   "source": [
    "# 6. Break repeating-key XOR\n",
    ">It is officially on, now.\n",
    "\n",
    ">This challenge isn't conceptually hard, but it involves actual error-prone coding. The other challenges in this set are there to bring you up to speed. This one is there to qualify you. If you can do this one, you're probably just fine up to Set 6.\n",
    "\n",
    "[There's a file here](https://cryptopals.com/static/challenge-data/6.txt). It's been base64'd after being encrypted with repeating-key XOR.\n",
    "\n",
    "Decrypt it.\n",
    "\n",
    "Here's how:\n",
    "\n",
    "1. Let KEYSIZE be the guessed length of the key; try values from 2 to (say) 40.\n",
    "\n",
    "2. Write a function to compute the edit distance/Hamming distance between two strings. *The Hamming distance is just the number of differing bits.* The distance between:\n",
    "\n",
    "        this is a test\n",
    "\n",
    "    and\n",
    "\n",
    "        wokka wokka!!!\n",
    "\n",
    "    is 37. *Make sure your code agrees before you proceed.*\n",
    "\n",
    "3. For each KEYSIZE, take the *first* KEYSIZE worth of bytes, and the *second* KEYSIZE worth of bytes, and find the edit distance between them. Normalize this result by dividing by KEYSIZE.\n",
    "\n",
    "4. The KEYSIZE with the smallest normalized edit distance is probably the key. You could proceed perhaps with the smallest 2-3 KEYSIZE values. Or take 4 KEYSIZE blocks instead of 2 and average the distances.\n",
    "\n",
    "5. Now that you probably know the KEYSIZE: break the ciphertext into blocks of KEYSIZE length.\n",
    "\n",
    "6. Now transpose the blocks: make a block that is the first byte of every block, and a block that is the second byte of every block, and so on.\n",
    "\n",
    "7. Solve each block as if it was single-character XOR. You already have code to do this.\n",
    "\n",
    "8. For each block, the single-byte XOR key that produces the best looking histogram is the repeating-key XOR key byte for that block. Put them together and you have the key.\n",
    "\n",
    "This code is going to turn out to be surprisingly useful later on. Breaking repeating-key XOR (\"Vigenere\") statistically is obviously an academic exercise, a \"Crypto 101\" thing. But more people \"know how\" to break it than can *actually break it*, and a similar technique breaks something much more important. "
   ]
  },
  {
   "cell_type": "code",
   "execution_count": 10,
   "metadata": {},
   "outputs": [
    {
     "name": "stdout",
     "output_type": "stream",
     "text": [
      "37\n"
     ]
    }
   ],
   "source": [
    "q6b_ans = set1.hamming_dist(\"this is a test\", \"wokka wokka!!!\")\n",
    "print(q6b_ans)"
   ]
  },
  {
   "cell_type": "code",
   "execution_count": 11,
   "metadata": {},
   "outputs": [
    {
     "name": "stdout",
     "output_type": "stream",
     "text": [
      "HUIfTQsPAh9PE048GmllH0kcDk4TAQsH\n"
     ]
    },
    {
     "data": {
      "text/plain": [
       "3836"
      ]
     },
     "execution_count": 11,
     "metadata": {},
     "output_type": "execute_result"
    }
   ],
   "source": [
    "with open(\"data/q6.txt\") as q6_file:\n",
    "    q6_text = q6_file.read().replace(\"\\n\", \"\")\n",
    "    \n",
    "print(q6_text[:32])\n",
    "len(q6_text)"
   ]
  },
  {
   "cell_type": "code",
   "execution_count": 12,
   "metadata": {},
   "outputs": [
    {
     "name": "stdout",
     "output_type": "stream",
     "text": [
      "[29, 66, 31, 77, 11, 15, 2, 31, 79, 19]\n"
     ]
    },
    {
     "data": {
      "text/plain": [
       "2876"
      ]
     },
     "execution_count": 12,
     "metadata": {},
     "output_type": "execute_result"
    }
   ],
   "source": [
    "q6_ints = list(ba.a2b_base64(q6_text))\n",
    "print(q6_ints[:10])\n",
    "len(q6_ints)"
   ]
  },
  {
   "cell_type": "code",
   "execution_count": 45,
   "metadata": {},
   "outputs": [
    {
     "data": {
      "text/html": [
       "<div>\n",
       "<style scoped>\n",
       "    .dataframe tbody tr th:only-of-type {\n",
       "        vertical-align: middle;\n",
       "    }\n",
       "\n",
       "    .dataframe tbody tr th {\n",
       "        vertical-align: top;\n",
       "    }\n",
       "\n",
       "    .dataframe thead th {\n",
       "        text-align: right;\n",
       "    }\n",
       "</style>\n",
       "<table border=\"1\" class=\"dataframe\">\n",
       "  <thead>\n",
       "    <tr style=\"text-align: right;\">\n",
       "      <th></th>\n",
       "      <th>keysize</th>\n",
       "      <th>norm_dist</th>\n",
       "    </tr>\n",
       "  </thead>\n",
       "  <tbody>\n",
       "    <tr>\n",
       "      <th>0</th>\n",
       "      <td>2</td>\n",
       "      <td>21.000000</td>\n",
       "    </tr>\n",
       "    <tr>\n",
       "      <th>18</th>\n",
       "      <td>20</td>\n",
       "      <td>77.550000</td>\n",
       "    </tr>\n",
       "    <tr>\n",
       "      <th>5</th>\n",
       "      <td>7</td>\n",
       "      <td>85.428571</td>\n",
       "    </tr>\n",
       "    <tr>\n",
       "      <th>27</th>\n",
       "      <td>29</td>\n",
       "      <td>86.103448</td>\n",
       "    </tr>\n",
       "    <tr>\n",
       "      <th>7</th>\n",
       "      <td>9</td>\n",
       "      <td>90.777778</td>\n",
       "    </tr>\n",
       "  </tbody>\n",
       "</table>\n",
       "</div>"
      ],
      "text/plain": [
       "    keysize  norm_dist\n",
       "0         2  21.000000\n",
       "18       20  77.550000\n",
       "5         7  85.428571\n",
       "27       29  86.103448\n",
       "7         9  90.777778"
      ]
     },
     "execution_count": 45,
     "metadata": {},
     "output_type": "execute_result"
    }
   ],
   "source": [
    "q6c_ans = pd.DataFrame({\"keysize\": np.array(range(2, 40))})\n",
    "q6c_ans = q6c_ans.assign(norm_dist=q6c_ans.keysize.apply(lambda b: set1.norm_keysize(q6_ints, b)))\n",
    "q6c_ans.nsmallest(5, \"norm_dist\")"
   ]
  },
  {
   "cell_type": "code",
   "execution_count": 103,
   "metadata": {},
   "outputs": [],
   "source": [
    "first_bytes = q6_ints[0::2]\n",
    "second_bytes = q6_ints[1::2]"
   ]
  },
  {
   "cell_type": "code",
   "execution_count": 104,
   "metadata": {},
   "outputs": [
    {
     "data": {
      "text/html": [
       "<div>\n",
       "<style scoped>\n",
       "    .dataframe tbody tr th:only-of-type {\n",
       "        vertical-align: middle;\n",
       "    }\n",
       "\n",
       "    .dataframe tbody tr th {\n",
       "        vertical-align: top;\n",
       "    }\n",
       "\n",
       "    .dataframe thead th {\n",
       "        text-align: right;\n",
       "    }\n",
       "</style>\n",
       "<table border=\"1\" class=\"dataframe\">\n",
       "  <thead>\n",
       "    <tr style=\"text-align: right;\">\n",
       "      <th></th>\n",
       "      <th>xor_int</th>\n",
       "      <th>xor_chr</th>\n",
       "      <th>xored_bytes</th>\n",
       "      <th>ascii_frac</th>\n",
       "      <th>xor_bcoef</th>\n",
       "    </tr>\n",
       "  </thead>\n",
       "  <tbody>\n",
       "    <tr>\n",
       "      <th>73</th>\n",
       "      <td>105</td>\n",
       "      <td>i</td>\n",
       "      <td>b\"tv\\x0ch,I'u:ss0nsY.\\x0cl0tsw;i!ho|~\\\\nN!ai\\x...</td>\n",
       "      <td>0.941606</td>\n",
       "      <td>0.841822</td>\n",
       "    </tr>\n",
       "    <tr>\n",
       "      <th>82</th>\n",
       "      <td>114</td>\n",
       "      <td>r</td>\n",
       "      <td>b'om\\x17s7R&lt;n!hh+uhB5\\x17w+ohl r:stgeGuU:zr\\x1...</td>\n",
       "      <td>0.929440</td>\n",
       "      <td>0.835162</td>\n",
       "    </tr>\n",
       "    <tr>\n",
       "      <th>78</th>\n",
       "      <td>110</td>\n",
       "      <td>n</td>\n",
       "      <td>b'sq\\x0bo+N r=tt7it^)\\x0bk7stp&lt;n&amp;oh{y[iI&amp;fn\\x0...</td>\n",
       "      <td>0.936740</td>\n",
       "      <td>0.821776</td>\n",
       "    </tr>\n",
       "    <tr>\n",
       "      <th>72</th>\n",
       "      <td>104</td>\n",
       "      <td>h</td>\n",
       "      <td>b\"uw\\ri-H&amp;t;rr1orX/\\rm1urv:h in}\\x7f]oO `h\\x01...</td>\n",
       "      <td>0.924574</td>\n",
       "      <td>0.815203</td>\n",
       "    </tr>\n",
       "    <tr>\n",
       "      <th>79</th>\n",
       "      <td>111</td>\n",
       "      <td>o</td>\n",
       "      <td>b'rp\\nn*O!s&lt;uu6hu_(\\nj6ruq=o\\'nizxZhH\\'go\\x06o...</td>\n",
       "      <td>0.934307</td>\n",
       "      <td>0.812978</td>\n",
       "    </tr>\n",
       "    <tr>\n",
       "      <th>67</th>\n",
       "      <td>99</td>\n",
       "      <td>c</td>\n",
       "      <td>b'~|\\x06b&amp;C-\\x7f0yy:dyS$\\x06f:~y}1c+bevtVdD+kc...</td>\n",
       "      <td>0.929440</td>\n",
       "      <td>0.810686</td>\n",
       "    </tr>\n",
       "    <tr>\n",
       "      <th>84</th>\n",
       "      <td>116</td>\n",
       "      <td>t</td>\n",
       "      <td>b\"ik\\x11u1T:h'nn-snD3\\x11q-inj&amp;t&lt;uracAsS&lt;|t\\x1...</td>\n",
       "      <td>0.924574</td>\n",
       "      <td>0.805404</td>\n",
       "    </tr>\n",
       "    <tr>\n",
       "      <th>83</th>\n",
       "      <td>115</td>\n",
       "      <td>s</td>\n",
       "      <td>b\"nl\\x16r6S=o ii*tiC4\\x16v*nim!s;rufdFtT;{s\\x1...</td>\n",
       "      <td>0.929440</td>\n",
       "      <td>0.794446</td>\n",
       "    </tr>\n",
       "    <tr>\n",
       "      <th>68</th>\n",
       "      <td>100</td>\n",
       "      <td>d</td>\n",
       "      <td>b'y{\\x01e!D*x7~~=c~T#\\x01a=y~z6d,ebqsQcC,ld\\rd...</td>\n",
       "      <td>0.927007</td>\n",
       "      <td>0.791202</td>\n",
       "    </tr>\n",
       "    <tr>\n",
       "      <th>85</th>\n",
       "      <td>117</td>\n",
       "      <td>u</td>\n",
       "      <td>b'hj\\x10t0U;i&amp;oo,roE2\\x10p,hok\\'u=ts`b@rR=}u\\x...</td>\n",
       "      <td>0.934307</td>\n",
       "      <td>0.784198</td>\n",
       "    </tr>\n",
       "    <tr>\n",
       "      <th>69</th>\n",
       "      <td>101</td>\n",
       "      <td>e</td>\n",
       "      <td>b'xz\\x00d E+y6\\x7f\\x7f&lt;b\\x7fU\"\\x00`&lt;x\\x7f{7e-d...</td>\n",
       "      <td>0.917275</td>\n",
       "      <td>0.779124</td>\n",
       "    </tr>\n",
       "    <tr>\n",
       "      <th>66</th>\n",
       "      <td>98</td>\n",
       "      <td></td>\n",
       "      <td>b\"\\x7f}\\x07c'B,~1xx;exR%\\x07g;\\x7fx|0b*cdwuWeE...</td>\n",
       "      <td>0.927007</td>\n",
       "      <td>0.774207</td>\n",
       "    </tr>\n",
       "    <tr>\n",
       "      <th>94</th>\n",
       "      <td>126</td>\n",
       "      <td>~</td>\n",
       "      <td>b\"ca\\x1b\\x7f;^0b-dd'ydN9\\x1b{'cd`,~6\\x7fxkiKyY...</td>\n",
       "      <td>0.914842</td>\n",
       "      <td>0.756075</td>\n",
       "    </tr>\n",
       "    <tr>\n",
       "      <th>88</th>\n",
       "      <td>120</td>\n",
       "      <td>x</td>\n",
       "      <td>b'eg\\x1dy=X6d+bb!\\x7fbH?\\x1d}!ebf*x0y~moM\\x7f_...</td>\n",
       "      <td>0.917275</td>\n",
       "      <td>0.749893</td>\n",
       "    </tr>\n",
       "    <tr>\n",
       "      <th>76</th>\n",
       "      <td>108</td>\n",
       "      <td>l</td>\n",
       "      <td>b'qs\\tm)L\"p?vv5kv\\\\+\\ti5qvr&gt;l$mjy{YkK$dl\\x05l?...</td>\n",
       "      <td>0.931873</td>\n",
       "      <td>0.743359</td>\n",
       "    </tr>\n",
       "    <tr>\n",
       "      <th>71</th>\n",
       "      <td>103</td>\n",
       "      <td>g</td>\n",
       "      <td>b'zx\\x02f\"G){4}}&gt;`}W \\x02b&gt;z}y5g/farpR`@/og\\x0...</td>\n",
       "      <td>0.939173</td>\n",
       "      <td>0.741157</td>\n",
       "    </tr>\n",
       "    <tr>\n",
       "      <th>0</th>\n",
       "      <td>32</td>\n",
       "      <td></td>\n",
       "      <td>b'=?E!e\\x00n&lt;s::y\\':\\x10gE%y=:&gt;r h!&amp;57\\x15\\'\\x...</td>\n",
       "      <td>0.875912</td>\n",
       "      <td>0.739778</td>\n",
       "    </tr>\n",
       "    <tr>\n",
       "      <th>86</th>\n",
       "      <td>118</td>\n",
       "      <td>v</td>\n",
       "      <td>b'ki\\x13w3V8j%ll/qlF1\\x13s/klh$v&gt;wpcaCqQ&gt;~v\\x1...</td>\n",
       "      <td>0.939173</td>\n",
       "      <td>0.737407</td>\n",
       "    </tr>\n",
       "    <tr>\n",
       "      <th>89</th>\n",
       "      <td>121</td>\n",
       "      <td>y</td>\n",
       "      <td>b'df\\x1cx&lt;Y7e*cc ~cI&gt;\\x1c| dcg+y1x\\x7flnL~^1qy...</td>\n",
       "      <td>0.912409</td>\n",
       "      <td>0.734566</td>\n",
       "    </tr>\n",
       "    <tr>\n",
       "      <th>77</th>\n",
       "      <td>109</td>\n",
       "      <td>m</td>\n",
       "      <td>b'pr\\x08l(M#q&gt;ww4jw]*\\x08h4pws?m%lkxzXjJ%em\\x0...</td>\n",
       "      <td>0.944039</td>\n",
       "      <td>0.729240</td>\n",
       "    </tr>\n",
       "  </tbody>\n",
       "</table>\n",
       "</div>"
      ],
      "text/plain": [
       "    xor_int xor_chr                                        xored_bytes  \\\n",
       "73      105       i  b\"tv\\x0ch,I'u:ss0nsY.\\x0cl0tsw;i!ho|~\\\\nN!ai\\x...   \n",
       "82      114       r  b'om\\x17s7R<n!hh+uhB5\\x17w+ohl r:stgeGuU:zr\\x1...   \n",
       "78      110       n  b'sq\\x0bo+N r=tt7it^)\\x0bk7stp<n&oh{y[iI&fn\\x0...   \n",
       "72      104       h  b\"uw\\ri-H&t;rr1orX/\\rm1urv:h in}\\x7f]oO `h\\x01...   \n",
       "79      111       o  b'rp\\nn*O!s<uu6hu_(\\nj6ruq=o\\'nizxZhH\\'go\\x06o...   \n",
       "67       99       c  b'~|\\x06b&C-\\x7f0yy:dyS$\\x06f:~y}1c+bevtVdD+kc...   \n",
       "84      116       t  b\"ik\\x11u1T:h'nn-snD3\\x11q-inj&t<uracAsS<|t\\x1...   \n",
       "83      115       s  b\"nl\\x16r6S=o ii*tiC4\\x16v*nim!s;rufdFtT;{s\\x1...   \n",
       "68      100       d  b'y{\\x01e!D*x7~~=c~T#\\x01a=y~z6d,ebqsQcC,ld\\rd...   \n",
       "85      117       u  b'hj\\x10t0U;i&oo,roE2\\x10p,hok\\'u=ts`b@rR=}u\\x...   \n",
       "69      101       e  b'xz\\x00d E+y6\\x7f\\x7f<b\\x7fU\"\\x00`<x\\x7f{7e-d...   \n",
       "66       98          b\"\\x7f}\\x07c'B,~1xx;exR%\\x07g;\\x7fx|0b*cdwuWeE...   \n",
       "94      126       ~  b\"ca\\x1b\\x7f;^0b-dd'ydN9\\x1b{'cd`,~6\\x7fxkiKyY...   \n",
       "88      120       x  b'eg\\x1dy=X6d+bb!\\x7fbH?\\x1d}!ebf*x0y~moM\\x7f_...   \n",
       "76      108       l  b'qs\\tm)L\"p?vv5kv\\\\+\\ti5qvr>l$mjy{YkK$dl\\x05l?...   \n",
       "71      103       g  b'zx\\x02f\"G){4}}>`}W \\x02b>z}y5g/farpR`@/og\\x0...   \n",
       "0        32          b'=?E!e\\x00n<s::y\\':\\x10gE%y=:>r h!&57\\x15\\'\\x...   \n",
       "86      118       v  b'ki\\x13w3V8j%ll/qlF1\\x13s/klh$v>wpcaCqQ>~v\\x1...   \n",
       "89      121       y  b'df\\x1cx<Y7e*cc ~cI>\\x1c| dcg+y1x\\x7flnL~^1qy...   \n",
       "77      109       m  b'pr\\x08l(M#q>ww4jw]*\\x08h4pws?m%lkxzXjJ%em\\x0...   \n",
       "\n",
       "    ascii_frac  xor_bcoef  \n",
       "73    0.941606   0.841822  \n",
       "82    0.929440   0.835162  \n",
       "78    0.936740   0.821776  \n",
       "72    0.924574   0.815203  \n",
       "79    0.934307   0.812978  \n",
       "67    0.929440   0.810686  \n",
       "84    0.924574   0.805404  \n",
       "83    0.929440   0.794446  \n",
       "68    0.927007   0.791202  \n",
       "85    0.934307   0.784198  \n",
       "69    0.917275   0.779124  \n",
       "66    0.927007   0.774207  \n",
       "94    0.914842   0.756075  \n",
       "88    0.917275   0.749893  \n",
       "76    0.931873   0.743359  \n",
       "71    0.939173   0.741157  \n",
       "0     0.875912   0.739778  \n",
       "86    0.939173   0.737407  \n",
       "89    0.912409   0.734566  \n",
       "77    0.944039   0.729240  "
      ]
     },
     "execution_count": 104,
     "metadata": {},
     "output_type": "execute_result"
    }
   ],
   "source": [
    "set1.best_eng_onebyte(bytes(first_bytes), 20)"
   ]
  },
  {
   "cell_type": "code",
   "execution_count": null,
   "metadata": {},
   "outputs": [],
   "source": [
    "set1.best_eng_onebyte(q3_input)"
   ]
  },
  {
   "cell_type": "markdown",
   "metadata": {},
   "source": [
    "# 7. AES in ECB mode\n",
    "\n",
    "The Base64-encoded content [in this file](https://cryptopals.com/static/challenge-data/7.txt) has been encrypted via AES-128 in ECB mode under the key\n",
    "\n",
    "    \"YELLOW SUBMARINE\".\n",
    "\n",
    "(case-sensitive, without the quotes; exactly 16 characters; I like \"YELLOW SUBMARINE\" because it's exactly 16 bytes long, and now you do too).\n",
    "\n",
    "Decrypt it. You know the key, after all.\n",
    "\n",
    "Easiest way: use OpenSSL::Cipher and give it AES-128-ECB as the cipher. "
   ]
  },
  {
   "cell_type": "markdown",
   "metadata": {},
   "source": [
    "# 8. Detect AES in ECB mode\n",
    "\n",
    "[In this file](https://cryptopals.com/static/challenge-data/8.txt) are a bunch of hex-encoded ciphertexts.\n",
    "\n",
    "One of them has been encrypted with ECB.\n",
    "\n",
    "Detect it.\n",
    "\n",
    "Remember that the problem with ECB is that it is stateless and deterministic; the same 16 byte plaintext block will always produce the same 16 byte ciphertext.\n"
   ]
  }
 ],
 "metadata": {
  "kernelspec": {
   "display_name": "Python 3",
   "language": "python",
   "name": "python3"
  },
  "language_info": {
   "codemirror_mode": {
    "name": "ipython",
    "version": 3
   },
   "file_extension": ".py",
   "mimetype": "text/x-python",
   "name": "python",
   "nbconvert_exporter": "python",
   "pygments_lexer": "ipython3",
   "version": "3.6.5"
  }
 },
 "nbformat": 4,
 "nbformat_minor": 2
}
