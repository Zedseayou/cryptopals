{
 "cells": [
  {
   "cell_type": "code",
   "execution_count": 1,
   "metadata": {},
   "outputs": [],
   "source": [
    "%load_ext autoreload\n",
    "%autoreload 2"
   ]
  },
  {
   "cell_type": "code",
   "execution_count": 2,
   "metadata": {},
   "outputs": [],
   "source": [
    "import binascii as ba"
   ]
  },
  {
   "cell_type": "code",
   "execution_count": 3,
   "metadata": {},
   "outputs": [],
   "source": [
    "import numpy as np"
   ]
  },
  {
   "cell_type": "code",
   "execution_count": 4,
   "metadata": {},
   "outputs": [],
   "source": [
    "import pandas as pd"
   ]
  },
  {
   "cell_type": "code",
   "execution_count": 5,
   "metadata": {},
   "outputs": [],
   "source": [
    "import itertools as it"
   ]
  },
  {
   "cell_type": "code",
   "execution_count": 6,
   "metadata": {},
   "outputs": [],
   "source": [
    "import set1"
   ]
  },
  {
   "cell_type": "code",
   "execution_count": 7,
   "metadata": {},
   "outputs": [],
   "source": [
    "import operator"
   ]
  },
  {
   "cell_type": "code",
   "execution_count": 8,
   "metadata": {},
   "outputs": [],
   "source": [
    "import pprint"
   ]
  },
  {
   "cell_type": "code",
   "execution_count": 11,
   "metadata": {},
   "outputs": [],
   "source": [
    "from cryptography.hazmat.primitives.ciphers import Cipher, algorithms, modes\n",
    "from cryptography.hazmat.backends import default_backend"
   ]
  },
  {
   "cell_type": "markdown",
   "metadata": {},
   "source": [
    "# 1. Convert hex to base64\n",
    "\n",
    "The string:\n",
    "\n",
    "    49276d206b696c6c696e6720796f757220627261696e206c696b65206120706f69736f6e6f7573206d757368726f6f6d\n",
    "\n",
    "Should produce:\n",
    "\n",
    "    SSdtIGtpbGxpbmcgeW91ciBicmFpbiBsaWtlIGEgcG9pc29ub3VzIG11c2hyb29t\n",
    "\n",
    "So go ahead and make that happen. You'll need to use this code for the rest of the exercises. "
   ]
  },
  {
   "cell_type": "code",
   "execution_count": null,
   "metadata": {},
   "outputs": [],
   "source": [
    "q1_input = \"49276d206b696c6c696e6720796f757220627261696e206c696b65206120706f69736f6e6f7573206d757368726f6f6d\"\n",
    "q1_output = \"SSdtIGtpbGxpbmcgeW91ciBicmFpbiBsaWtlIGEgcG9pc29ub3VzIG11c2hyb29t\""
   ]
  },
  {
   "cell_type": "code",
   "execution_count": null,
   "metadata": {},
   "outputs": [],
   "source": [
    "q1_ans = set1.hex_to_b64(q1_input)\n",
    "print(ba.a2b_hex(q1_input))\n",
    "print(q1_ans)\n",
    "print(\"It is %s that answer matches desired output\" % str(set1.byte_to_str(q1_ans) == q1_output))"
   ]
  },
  {
   "cell_type": "markdown",
   "metadata": {},
   "source": [
    "# 2. Fixed XOR\n",
    "\n",
    "Write a function that takes two equal-length buffers and produces their XOR combination.\n",
    "\n",
    "If your function works properly, then when you feed it the string:\n",
    "\n",
    "    1c0111001f010100061a024b53535009181c\n",
    "\n",
    "... after hex decoding, and when XOR'd against:\n",
    "\n",
    "    686974207468652062756c6c277320657965\n",
    "\n",
    "... should produce:\n",
    "\n",
    "    746865206b696420646f6e277420706c6179\n",
    "\n"
   ]
  },
  {
   "cell_type": "code",
   "execution_count": null,
   "metadata": {},
   "outputs": [],
   "source": [
    "q2_input1 = \"1c0111001f010100061a024b53535009181c\"\n",
    "q2_input2 = \"686974207468652062756c6c277320657965\"\n",
    "q2_output = \"746865206b696420646f6e277420706c6179\""
   ]
  },
  {
   "cell_type": "code",
   "execution_count": null,
   "metadata": {},
   "outputs": [],
   "source": [
    "q2_ans = set1.fixed_xor(ba.a2b_hex(q2_input1), ba.a2b_hex(q2_input2))\n",
    "print(q2_ans)\n",
    "print(ba.b2a_hex(q2_ans))\n",
    "print(\"It is %s that answer matches desired output\" % str(set1.byte_to_str(ba.b2a_hex(q2_ans)) == q2_output))"
   ]
  },
  {
   "cell_type": "markdown",
   "metadata": {},
   "source": [
    "# 3. Single-byte XOR cipher\n",
    " The hex encoded string:\n",
    "\n",
    "     1b37373331363f78151b7f2b783431333d78397828372d363c78373e783a393b3736\n",
    "\n",
    "... has been XOR'd against a single character. Find the key, decrypt the message.\n",
    "\n",
    "You can do this by hand. But don't: write code to do it for you.\n",
    "\n",
    "How? Devise some method for \"scoring\" a piece of English plaintext. Character frequency is a good metric. Evaluate each output and choose the one with the best score. "
   ]
  },
  {
   "cell_type": "code",
   "execution_count": null,
   "metadata": {},
   "outputs": [],
   "source": [
    "q3_input = \"1b37373331363f78151b7f2b783431333d78397828372d363c78373e783a393b3736\""
   ]
  },
  {
   "cell_type": "code",
   "execution_count": null,
   "metadata": {},
   "outputs": [],
   "source": [
    "set1.best_eng_onebyte(ba.a2b_hex(q3_input), 1).squeeze()"
   ]
  },
  {
   "cell_type": "markdown",
   "metadata": {},
   "source": [
    "# 4. Detect single-character XOR\n",
    "\n",
    "One of the 60-character strings in [this file](https://cryptopals.com/static/challenge-df/4.txt) has been encrypted by single-character XOR.\n",
    "\n",
    "Find it.\n",
    "\n",
    "(Your code from #3 should help.)\n"
   ]
  },
  {
   "cell_type": "code",
   "execution_count": null,
   "metadata": {},
   "outputs": [],
   "source": [
    "with open(\"data/q4.txt\") as q4_file:\n",
    "    q4_text = pd.Series(q4_file.read().split())\n",
    "    \n",
    "q4_text.head()"
   ]
  },
  {
   "cell_type": "code",
   "execution_count": null,
   "metadata": {},
   "outputs": [],
   "source": [
    "q4_output = q4_text.apply(ba.a2b_hex).apply(lambda x: set1.best_eng_onebyte(x, 1).squeeze())"
   ]
  },
  {
   "cell_type": "code",
   "execution_count": null,
   "metadata": {},
   "outputs": [],
   "source": [
    "# q4_output.sort_values(\"xor_bcoef\", ascending=False)\n",
    "# q4_output.iloc[q4_output.xor_bcoef.idxmax()]\n",
    "q4_output.nlargest(1, 'xor_bcoef')"
   ]
  },
  {
   "cell_type": "markdown",
   "metadata": {},
   "source": [
    "# 5. Implement repeating-key XOR\n",
    "\n",
    "Here is the opening stanza of an important work of the English language:\n",
    "\n",
    "    Burning 'em, if you ain't quick and nimble\n",
    "    I go crazy when I hear a cymbal\n",
    "\n",
    "Encrypt it, under the key \"ICE\", using repeating-key XOR.\n",
    "\n",
    "In repeating-key XOR, you'll sequentially apply each byte of the key; the first byte of plaintext will be XOR'd against I, the next C, the next E, then I again for the 4th byte, and so on.\n",
    "\n",
    "It should come out to:\n",
    "\n",
    "    0b3637272a2b2e63622c2e69692a23693a2a3c6324202d623d63343c2a26226324272765272\n",
    "    a282b2f20430a652e2c652a3124333a653e2b2027630c692b20283165286326302e27282f\n",
    "\n",
    "Encrypt a bunch of stuff using your repeating-key XOR function. Encrypt your mail. Encrypt your password file. Your .sig file. Get a feel for it. I promise, we aren't wasting your time with this.\n"
   ]
  },
  {
   "cell_type": "code",
   "execution_count": null,
   "metadata": {},
   "outputs": [],
   "source": [
    "q5_input = \"Burning 'em, if you ain't quick and nimble\\nI go crazy when I hear a cymbal\"\n",
    "q5_output = \"0b3637272a2b2e63622c2e69692a23693a2a3c6324202d623d63343c2a26226324272765272a282b2f20430a652e2c652a3124333a653e2b2027630c692b20283165286326302e27282f\""
   ]
  },
  {
   "cell_type": "code",
   "execution_count": null,
   "metadata": {},
   "outputs": [],
   "source": [
    "# q5_ans = [set1.repeat_xor(s, \"ICE\") for s in q5_input[0]]\n",
    "q5_ans = set1.repeat_xor(bytes(q5_input, \"ascii\"), \"ICE\")\n",
    "print(q5_ans)\n",
    "print(ba.b2a_hex(q5_ans))\n",
    "print(\"It is %s that answer matches desired output\" % str(set1.byte_to_str(ba.b2a_hex(q5_ans)) == q5_output))"
   ]
  },
  {
   "cell_type": "markdown",
   "metadata": {},
   "source": [
    "# 6. Break repeating-key XOR\n",
    ">It is officially on, now.\n",
    "\n",
    ">This challenge isn't conceptually hard, but it involves actual error-prone coding. The other challenges in this set are there to bring you up to speed. This one is there to qualify you. If you can do this one, you're probably just fine up to Set 6.\n",
    "\n",
    "[There's a file here](https://cryptopals.com/static/challenge-data/6.txt). It's been base64'd after being encrypted with repeating-key XOR.\n",
    "\n",
    "Decrypt it.\n",
    "\n",
    "Here's how:\n",
    "\n",
    "1. Let KEYSIZE be the guessed length of the key; try values from 2 to (say) 40.\n",
    "\n",
    "2. Write a function to compute the edit distance/Hamming distance between two strings. *The Hamming distance is just the number of differing bits.* The distance between:\n",
    "\n",
    "        this is a test\n",
    "\n",
    "    and\n",
    "\n",
    "        wokka wokka!!!\n",
    "\n",
    "    is 37. *Make sure your code agrees before you proceed.*\n",
    "\n",
    "3. For each KEYSIZE, take the *first* KEYSIZE worth of bytes, and the *second* KEYSIZE worth of bytes, and find the edit distance between them. Normalize this result by dividing by KEYSIZE.\n",
    "\n",
    "4. The KEYSIZE with the smallest normalized edit distance is probably the key. You could proceed perhaps with the smallest 2-3 KEYSIZE values. Or take 4 KEYSIZE blocks instead of 2 and average the distances.\n",
    "\n",
    "5. Now that you probably know the KEYSIZE: break the ciphertext into blocks of KEYSIZE length.\n",
    "\n",
    "6. Now transpose the blocks: make a block that is the first byte of every block, and a block that is the second byte of every block, and so on.\n",
    "\n",
    "7. Solve each block as if it was single-character XOR. You already have code to do this.\n",
    "\n",
    "8. For each block, the single-byte XOR key that produces the best looking histogram is the repeating-key XOR key byte for that block. Put them together and you have the key.\n",
    "\n",
    "This code is going to turn out to be surprisingly useful later on. Breaking repeating-key XOR (\"Vigenere\") statistically is obviously an academic exercise, a \"Crypto 101\" thing. But more people \"know how\" to break it than can *actually break it*, and a similar technique breaks something much more important. "
   ]
  },
  {
   "cell_type": "code",
   "execution_count": null,
   "metadata": {},
   "outputs": [],
   "source": [
    "q6b_ans = set1.hamming_dist(\"this is a test\", \"wokka wokka!!!\")\n",
    "print(q6b_ans)\n",
    "print(\"It is %s that answer matches desired output\" % str(q6b_ans == 37))"
   ]
  },
  {
   "cell_type": "code",
   "execution_count": null,
   "metadata": {},
   "outputs": [],
   "source": [
    "with open(\"data/q6.txt\") as q6_file:\n",
    "    q6_text = q6_file.read().replace(\"\\n\", \"\")\n",
    "    \n",
    "print(q6_text[:32])"
   ]
  },
  {
   "cell_type": "code",
   "execution_count": null,
   "metadata": {},
   "outputs": [],
   "source": [
    "q6_ints = list(ba.a2b_base64(q6_text))\n",
    "print(q6_ints[:10])"
   ]
  },
  {
   "cell_type": "code",
   "execution_count": null,
   "metadata": {},
   "outputs": [],
   "source": [
    "q6c_ans = pd.DataFrame({\"keysize\": range(2, 40)})\n",
    "q6c_ans = q6c_ans.assign(norm_dist=q6c_ans.keysize.apply(lambda b: set1.norm_keysize(q6_ints, b, 4)))\n",
    "q6c_ans.nsmallest(5, \"norm_dist\")\n",
    "# print(\"The best fitting key size is %s\" % str(int(q6c_ans.nsmallest(1, \"norm_dist\").keysize)))"
   ]
  },
  {
   "cell_type": "code",
   "execution_count": null,
   "metadata": {},
   "outputs": [],
   "source": [
    "q6_chunks = pd.DataFrame({\"chunk_num\": range(29)})\n",
    "q6_chunks = q6_chunks.assign(chunk=q6_chunks.chunk_num.apply(lambda x: q6_ints[x::29]))\n",
    "q6_chunks = q6_chunks.assign(xor_chr=q6_chunks.chunk.apply(\n",
    "    lambda x: set1.best_eng_onebyte(bytes(x), 1).squeeze().xor_chr\n",
    "))\n",
    "q6_key = \"\".join(q6_chunks.xor_chr)\n",
    "q6_key"
   ]
  },
  {
   "cell_type": "code",
   "execution_count": null,
   "metadata": {},
   "outputs": [],
   "source": [
    "q6_ans = set1.repeat_xor(q6_ints, \"Terminator X: Bring the noise\")\n",
    "print(set1.byte_to_str(q6_ans))"
   ]
  },
  {
   "cell_type": "markdown",
   "metadata": {},
   "source": [
    "# 7. AES in ECB mode\n",
    "\n",
    "The Base64-encoded content [in this file](https://cryptopals.com/static/challenge-data/7.txt) has been encrypted via AES-128 in ECB mode under the key\n",
    "\n",
    "    \"YELLOW SUBMARINE\".\n",
    "\n",
    "(case-sensitive, without the quotes; exactly 16 characters; I like \"YELLOW SUBMARINE\" because it's exactly 16 bytes long, and now you do too).\n",
    "\n",
    "Decrypt it. You know the key, after all.\n",
    "\n",
    "Easiest way: use OpenSSL::Cipher and give it AES-128-ECB as the cipher. "
   ]
  },
  {
   "cell_type": "code",
   "execution_count": 8,
   "metadata": {},
   "outputs": [
    {
     "name": "stdout",
     "output_type": "stream",
     "text": [
      "CRIwqt4+szDbqkNY+I0qbDe3LQz0wiw0SuxBQtAM5TDdMbjCMD/venUDW9BL\n",
      "PEXODbk6a48oMbAY6DDZsuLbc0uR9cp9hQ0QQGATyyCESq2NSsvhx5zKlLtz\n",
      "dsnfK5ED5srKjK7Fz4Q38/ttd+stL/9WnDzlJvAo7WBsjI5YJc2gmAYayN\n"
     ]
    }
   ],
   "source": [
    "with open(\"data/q7.txt\") as q7_file:\n",
    "    q7_text = q7_file.read()\n",
    "    \n",
    "print(q7_text[:180])"
   ]
  },
  {
   "cell_type": "code",
   "execution_count": 17,
   "metadata": {},
   "outputs": [],
   "source": [
    "q7_cipher = Cipher(algorithms.AES(\"YELLOW SUBMARINE\"), modes.ECB backend = default_backend())"
   ]
  },
  {
   "cell_type": "code",
   "execution_count": 22,
   "metadata": {},
   "outputs": [
    {
     "ename": "TypeError",
     "evalue": "initializer for ctype 'unsigned char *' must be a bytes or list or tuple, not str",
     "output_type": "error",
     "traceback": [
      "\u001b[1;31m---------------------------------------------------------------------------\u001b[0m",
      "\u001b[1;31mTypeError\u001b[0m                                 Traceback (most recent call last)",
      "\u001b[1;32m<ipython-input-22-2567d8898e3b>\u001b[0m in \u001b[0;36m<module>\u001b[1;34m()\u001b[0m\n\u001b[1;32m----> 1\u001b[1;33m \u001b[0mq7_encryptor\u001b[0m \u001b[1;33m=\u001b[0m \u001b[0mq7_cipher\u001b[0m\u001b[1;33m.\u001b[0m\u001b[0mencryptor\u001b[0m\u001b[1;33m(\u001b[0m\u001b[1;33m)\u001b[0m\u001b[1;33m\u001b[0m\u001b[0m\n\u001b[0m",
      "\u001b[1;32mC:\\ProgramData\\Anaconda3\\lib\\site-packages\\cryptography\\hazmat\\primitives\\ciphers\\base.py\u001b[0m in \u001b[0;36mencryptor\u001b[1;34m(self)\u001b[0m\n\u001b[0;32m    119\u001b[0m                 )\n\u001b[0;32m    120\u001b[0m         ctx = self._backend.create_symmetric_encryption_ctx(\n\u001b[1;32m--> 121\u001b[1;33m             \u001b[0mself\u001b[0m\u001b[1;33m.\u001b[0m\u001b[0malgorithm\u001b[0m\u001b[1;33m,\u001b[0m \u001b[0mself\u001b[0m\u001b[1;33m.\u001b[0m\u001b[0mmode\u001b[0m\u001b[1;33m\u001b[0m\u001b[0m\n\u001b[0m\u001b[0;32m    122\u001b[0m         )\n\u001b[0;32m    123\u001b[0m         \u001b[1;32mreturn\u001b[0m \u001b[0mself\u001b[0m\u001b[1;33m.\u001b[0m\u001b[0m_wrap_ctx\u001b[0m\u001b[1;33m(\u001b[0m\u001b[0mctx\u001b[0m\u001b[1;33m,\u001b[0m \u001b[0mencrypt\u001b[0m\u001b[1;33m=\u001b[0m\u001b[1;32mTrue\u001b[0m\u001b[1;33m)\u001b[0m\u001b[1;33m\u001b[0m\u001b[0m\n",
      "\u001b[1;32mC:\\ProgramData\\Anaconda3\\lib\\site-packages\\cryptography\\hazmat\\backends\\openssl\\backend.py\u001b[0m in \u001b[0;36mcreate_symmetric_encryption_ctx\u001b[1;34m(self, cipher, mode)\u001b[0m\n\u001b[0;32m    266\u001b[0m \u001b[1;33m\u001b[0m\u001b[0m\n\u001b[0;32m    267\u001b[0m     \u001b[1;32mdef\u001b[0m \u001b[0mcreate_symmetric_encryption_ctx\u001b[0m\u001b[1;33m(\u001b[0m\u001b[0mself\u001b[0m\u001b[1;33m,\u001b[0m \u001b[0mcipher\u001b[0m\u001b[1;33m,\u001b[0m \u001b[0mmode\u001b[0m\u001b[1;33m)\u001b[0m\u001b[1;33m:\u001b[0m\u001b[1;33m\u001b[0m\u001b[0m\n\u001b[1;32m--> 268\u001b[1;33m         \u001b[1;32mreturn\u001b[0m \u001b[0m_CipherContext\u001b[0m\u001b[1;33m(\u001b[0m\u001b[0mself\u001b[0m\u001b[1;33m,\u001b[0m \u001b[0mcipher\u001b[0m\u001b[1;33m,\u001b[0m \u001b[0mmode\u001b[0m\u001b[1;33m,\u001b[0m \u001b[0m_CipherContext\u001b[0m\u001b[1;33m.\u001b[0m\u001b[0m_ENCRYPT\u001b[0m\u001b[1;33m)\u001b[0m\u001b[1;33m\u001b[0m\u001b[0m\n\u001b[0m\u001b[0;32m    269\u001b[0m \u001b[1;33m\u001b[0m\u001b[0m\n\u001b[0;32m    270\u001b[0m     \u001b[1;32mdef\u001b[0m \u001b[0mcreate_symmetric_decryption_ctx\u001b[0m\u001b[1;33m(\u001b[0m\u001b[0mself\u001b[0m\u001b[1;33m,\u001b[0m \u001b[0mcipher\u001b[0m\u001b[1;33m,\u001b[0m \u001b[0mmode\u001b[0m\u001b[1;33m)\u001b[0m\u001b[1;33m:\u001b[0m\u001b[1;33m\u001b[0m\u001b[0m\n",
      "\u001b[1;32mC:\\ProgramData\\Anaconda3\\lib\\site-packages\\cryptography\\hazmat\\backends\\openssl\\ciphers.py\u001b[0m in \u001b[0;36m__init__\u001b[1;34m(self, backend, cipher, mode, operation)\u001b[0m\n\u001b[0;32m    108\u001b[0m             \u001b[0mcipher\u001b[0m\u001b[1;33m.\u001b[0m\u001b[0mkey\u001b[0m\u001b[1;33m,\u001b[0m\u001b[1;33m\u001b[0m\u001b[0m\n\u001b[0;32m    109\u001b[0m             \u001b[0miv_nonce\u001b[0m\u001b[1;33m,\u001b[0m\u001b[1;33m\u001b[0m\u001b[0m\n\u001b[1;32m--> 110\u001b[1;33m             \u001b[0moperation\u001b[0m\u001b[1;33m\u001b[0m\u001b[0m\n\u001b[0m\u001b[0;32m    111\u001b[0m         )\n\u001b[0;32m    112\u001b[0m         \u001b[0mself\u001b[0m\u001b[1;33m.\u001b[0m\u001b[0m_backend\u001b[0m\u001b[1;33m.\u001b[0m\u001b[0mopenssl_assert\u001b[0m\u001b[1;33m(\u001b[0m\u001b[0mres\u001b[0m \u001b[1;33m!=\u001b[0m \u001b[1;36m0\u001b[0m\u001b[1;33m)\u001b[0m\u001b[1;33m\u001b[0m\u001b[0m\n",
      "\u001b[1;31mTypeError\u001b[0m: initializer for ctype 'unsigned char *' must be a bytes or list or tuple, not str"
     ]
    }
   ],
   "source": [
    "q7_decryptor = q7_cipher.encryptor()"
   ]
  },
  {
   "cell_type": "markdown",
   "metadata": {},
   "source": [
    "# 8. Detect AES in ECB mode\n",
    "\n",
    "[In this file](https://cryptopals.com/static/challenge-data/8.txt) are a bunch of hex-encoded ciphertexts.\n",
    "\n",
    "One of them has been encrypted with ECB.\n",
    "\n",
    "Detect it.\n",
    "\n",
    "Remember that the problem with ECB is that it is stateless and deterministic; the same 16 byte plaintext block will always produce the same 16 byte ciphertext.\n"
   ]
  }
 ],
 "metadata": {
  "kernelspec": {
   "display_name": "Python 3",
   "language": "python",
   "name": "python3"
  },
  "language_info": {
   "codemirror_mode": {
    "name": "ipython",
    "version": 3
   },
   "file_extension": ".py",
   "mimetype": "text/x-python",
   "name": "python",
   "nbconvert_exporter": "python",
   "pygments_lexer": "ipython3",
   "version": "3.6.5"
  }
 },
 "nbformat": 4,
 "nbformat_minor": 2
}
