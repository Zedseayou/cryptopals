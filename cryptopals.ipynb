{
 "cells": [
  {
   "cell_type": "code",
   "execution_count": 1,
   "metadata": {},
   "outputs": [],
   "source": [
    "import binascii as ba"
   ]
  },
  {
   "cell_type": "code",
   "execution_count": 23,
   "metadata": {},
   "outputs": [],
   "source": [
    "import numpy as np"
   ]
  },
  {
   "cell_type": "code",
   "execution_count": 2,
   "metadata": {},
   "outputs": [],
   "source": [
    "import set1"
   ]
  },
  {
   "cell_type": "code",
   "execution_count": 14,
   "metadata": {},
   "outputs": [],
   "source": [
    "import operator"
   ]
  },
  {
   "cell_type": "markdown",
   "metadata": {},
   "source": [
    "# 1. Convert hex to base64\n",
    "\n",
    "The string:\n",
    "\n",
    "    49276d206b696c6c696e6720796f757220627261696e206c696b65206120706f69736f6e6f7573206d757368726f6f6d\n",
    "\n",
    "Should produce:\n",
    "\n",
    "    SSdtIGtpbGxpbmcgeW91ciBicmFpbiBsaWtlIGEgcG9pc29ub3VzIG11c2hyb29t\n",
    "\n",
    "So go ahead and make that happen. You'll need to use this code for the rest of the exercises. "
   ]
  },
  {
   "cell_type": "code",
   "execution_count": 3,
   "metadata": {},
   "outputs": [],
   "source": [
    "q1_input = \"49276d206b696c6c696e6720796f757220627261696e206c696b65206120706f69736f6e6f7573206d757368726f6f6d\"\n",
    "q1_output = \"SSdtIGtpbGxpbmcgeW91ciBicmFpbiBsaWtlIGEgcG9pc29ub3VzIG11c2hyb29t\""
   ]
  },
  {
   "cell_type": "code",
   "execution_count": 25,
   "metadata": {},
   "outputs": [
    {
     "name": "stdout",
     "output_type": "stream",
     "text": [
      "b'SSdtIGtpbGxpbmcgeW91ciBicmFpbiBsaWtlIGEgcG9pc29ub3VzIG11c2hyb29t'\n",
      "[83, 83, 100, 116, 73, 71, 116, 112, 98, 71, 120, 112, 98, 109, 99, 103, 101, 87, 57, 49, 99, 105, 66, 105, 99, 109, 70, 112, 98, 105, 66, 115, 97, 87, 116, 108, 73, 71, 69, 103, 99, 71, 57, 112, 99, 50, 57, 117, 98, 51, 86, 122, 73, 71, 49, 49, 99, 50, 104, 121, 98, 50, 57, 116]\n"
     ]
    }
   ],
   "source": [
    "q1_ans = set1.hex2b64(q1_input)\n",
    "print(q1_ans)\n",
    "print([i for i in q1_ans])"
   ]
  },
  {
   "cell_type": "markdown",
   "metadata": {},
   "source": [
    "# 2. Fixed XOR\n",
    "\n",
    "Write a function that takes two equal-length buffers and produces their XOR combination.\n",
    "\n",
    "If your function works properly, then when you feed it the string:\n",
    "\n",
    "    1c0111001f010100061a024b53535009181c\n",
    "\n",
    "... after hex decoding, and when XOR'd against:\n",
    "\n",
    "    686974207468652062756c6c277320657965\n",
    "\n",
    "... should produce:\n",
    "\n",
    "    746865206b696420646f6e277420706c6179\n",
    "\n"
   ]
  },
  {
   "cell_type": "code",
   "execution_count": 5,
   "metadata": {},
   "outputs": [],
   "source": [
    "q2_input1 = \"1c0111001f010100061a024b53535009181c\"\n",
    "q2_input2 = \"686974207468652062756c6c277320657965\"\n",
    "q2_output = \"746865206b696420646f6e277420706c6179\""
   ]
  },
  {
   "cell_type": "code",
   "execution_count": 6,
   "metadata": {},
   "outputs": [
    {
     "name": "stdout",
     "output_type": "stream",
     "text": [
      "b'746865206b696420646f6e277420706c6179'\n"
     ]
    },
    {
     "data": {
      "text/plain": [
       "True"
      ]
     },
     "execution_count": 6,
     "metadata": {},
     "output_type": "execute_result"
    }
   ],
   "source": [
    "q2_ans = set1.fixed_xor(q2_input1, q2_input2)\n",
    "print(q2_ans)\n",
    "set1.bytes2str(q2_ans) == q2_output"
   ]
  },
  {
   "cell_type": "markdown",
   "metadata": {},
   "source": [
    "# 3. Single-byte XOR cipher\n",
    " The hex encoded string:\n",
    "\n",
    "     1b37373331363f78151b7f2b783431333d78397828372d363c78373e783a393b3736\n",
    "\n",
    "... has been XOR'd against a single character. Find the key, decrypt the message.\n",
    "\n",
    "You can do this by hand. But don't: write code to do it for you.\n",
    "\n",
    "How? Devise some method for \"scoring\" a piece of English plaintext. Character frequency is a good metric. Evaluate each output and choose the one with the best score. "
   ]
  },
  {
   "cell_type": "code",
   "execution_count": 7,
   "metadata": {},
   "outputs": [],
   "source": [
    "q3_input = \"1b37373331363f78151b7f2b783431333d78397828372d363c78373e783a393b3736\""
   ]
  },
  {
   "cell_type": "code",
   "execution_count": null,
   "metadata": {},
   "outputs": [],
   "source": [
    "# [onebyte_xor(q3_input, i) for i in range(256)]\n",
    "scores = [score_hex(onebyte_xor(q3_input, i)) for i in range(256)]\n",
    "xoreds = [onebyte_xor(q3_input, i) for i in range(256)]\n",
    "[pair[1] for pair in zip(scores, xoreds) if pair[0] == 1]\n",
    "# onebyte_xor(q3_input, 37)"
   ]
  },
  {
   "cell_type": "code",
   "execution_count": 11,
   "metadata": {},
   "outputs": [
    {
     "data": {
      "text/plain": [
       "4.978866464132264"
      ]
     },
     "execution_count": 11,
     "metadata": {},
     "output_type": "execute_result"
    }
   ],
   "source": [
    "set1.freq_rmse(\"aaaaabbbcccdde\")"
   ]
  },
  {
   "cell_type": "code",
   "execution_count": 21,
   "metadata": {},
   "outputs": [],
   "source": [
    "import numpy as np"
   ]
  },
  {
   "cell_type": "code",
   "execution_count": 24,
   "metadata": {},
   "outputs": [
    {
     "data": {
      "text/plain": [
       "array([28,  1, 17,  0, 31,  1,  1,  0,  6, 26,  2, 75, 83, 83, 80,  9, 24,\n",
       "       28])"
      ]
     },
     "execution_count": 24,
     "metadata": {},
     "output_type": "execute_result"
    }
   ],
   "source": [
    "np.array([i for i in ba.a2b_hex(q2_input1)])"
   ]
  },
  {
   "cell_type": "code",
   "execution_count": 18,
   "metadata": {},
   "outputs": [
    {
     "data": {
      "text/plain": [
       "(3, 4)"
      ]
     },
     "execution_count": 18,
     "metadata": {},
     "output_type": "execute_result"
    }
   ],
   "source": [
    "max(enumerate([1,2,3,4]), key = operator.itemgetter(1))"
   ]
  }
 ],
 "metadata": {
  "kernelspec": {
   "display_name": "Python 3",
   "language": "python",
   "name": "python3"
  },
  "language_info": {
   "codemirror_mode": {
    "name": "ipython",
    "version": 3
   },
   "file_extension": ".py",
   "mimetype": "text/x-python",
   "name": "python",
   "nbconvert_exporter": "python",
   "pygments_lexer": "ipython3",
   "version": "3.6.4"
  }
 },
 "nbformat": 4,
 "nbformat_minor": 2
}
