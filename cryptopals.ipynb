{
 "cells": [
  {
   "cell_type": "code",
   "execution_count": 34,
   "metadata": {},
   "outputs": [
    {
     "name": "stdout",
     "output_type": "stream",
     "text": [
      "The autoreload extension is already loaded. To reload it, use:\n",
      "  %reload_ext autoreload\n"
     ]
    }
   ],
   "source": [
    "%load_ext autoreload\n",
    "%autoreload 2"
   ]
  },
  {
   "cell_type": "code",
   "execution_count": 35,
   "metadata": {},
   "outputs": [],
   "source": [
    "import binascii as ba"
   ]
  },
  {
   "cell_type": "code",
   "execution_count": 36,
   "metadata": {},
   "outputs": [],
   "source": [
    "import numpy as np"
   ]
  },
  {
   "cell_type": "code",
   "execution_count": 37,
   "metadata": {},
   "outputs": [],
   "source": [
    "import set1"
   ]
  },
  {
   "cell_type": "code",
   "execution_count": 38,
   "metadata": {},
   "outputs": [],
   "source": [
    "import operator"
   ]
  },
  {
   "cell_type": "code",
   "execution_count": 47,
   "metadata": {},
   "outputs": [],
   "source": [
    "import pprint"
   ]
  },
  {
   "cell_type": "markdown",
   "metadata": {},
   "source": [
    "# 1. Convert hex to base64\n",
    "\n",
    "The string:\n",
    "\n",
    "    49276d206b696c6c696e6720796f757220627261696e206c696b65206120706f69736f6e6f7573206d757368726f6f6d\n",
    "\n",
    "Should produce:\n",
    "\n",
    "    SSdtIGtpbGxpbmcgeW91ciBicmFpbiBsaWtlIGEgcG9pc29ub3VzIG11c2hyb29t\n",
    "\n",
    "So go ahead and make that happen. You'll need to use this code for the rest of the exercises. "
   ]
  },
  {
   "cell_type": "code",
   "execution_count": 39,
   "metadata": {},
   "outputs": [],
   "source": [
    "q1_input = \"49276d206b696c6c696e6720796f757220627261696e206c696b65206120706f69736f6e6f7573206d757368726f6f6d\"\n",
    "q1_output = \"SSdtIGtpbGxpbmcgeW91ciBicmFpbiBsaWtlIGEgcG9pc29ub3VzIG11c2hyb29t\""
   ]
  },
  {
   "cell_type": "code",
   "execution_count": 40,
   "metadata": {},
   "outputs": [
    {
     "name": "stdout",
     "output_type": "stream",
     "text": [
      "b'SSdtIGtpbGxpbmcgeW91ciBicmFpbiBsaWtlIGEgcG9pc29ub3VzIG11c2hyb29t'\n",
      "It is True that answer matches desired output\n"
     ]
    }
   ],
   "source": [
    "q1_ans = set1.hex_to_b64(q1_input)\n",
    "print(q1_ans)\n",
    "print(\"It is %s that answer matches desired output\" % str(set1.byte_to_str(q1_ans) == q1_output))"
   ]
  },
  {
   "cell_type": "markdown",
   "metadata": {},
   "source": [
    "# 2. Fixed XOR\n",
    "\n",
    "Write a function that takes two equal-length buffers and produces their XOR combination.\n",
    "\n",
    "If your function works properly, then when you feed it the string:\n",
    "\n",
    "    1c0111001f010100061a024b53535009181c\n",
    "\n",
    "... after hex decoding, and when XOR'd against:\n",
    "\n",
    "    686974207468652062756c6c277320657965\n",
    "\n",
    "... should produce:\n",
    "\n",
    "    746865206b696420646f6e277420706c6179\n",
    "\n"
   ]
  },
  {
   "cell_type": "code",
   "execution_count": 41,
   "metadata": {},
   "outputs": [],
   "source": [
    "q2_input1 = \"1c0111001f010100061a024b53535009181c\"\n",
    "q2_input2 = \"686974207468652062756c6c277320657965\"\n",
    "q2_output = \"746865206b696420646f6e277420706c6179\""
   ]
  },
  {
   "cell_type": "code",
   "execution_count": 42,
   "metadata": {},
   "outputs": [
    {
     "name": "stdout",
     "output_type": "stream",
     "text": [
      "b'746865206b696420646f6e277420706c6179'\n",
      "It is True that answer matches desired output\n"
     ]
    }
   ],
   "source": [
    "q2_ans = set1.fixed_xor(q2_input1, q2_input2)\n",
    "print(q2_ans)\n",
    "print(\"It is %s that answer matches desired output\" % str(set1.byte_to_str(q2_ans) == q2_output))"
   ]
  },
  {
   "cell_type": "markdown",
   "metadata": {},
   "source": [
    "# 3. Single-byte XOR cipher\n",
    " The hex encoded string:\n",
    "\n",
    "     1b37373331363f78151b7f2b783431333d78397828372d363c78373e783a393b3736\n",
    "\n",
    "... has been XOR'd against a single character. Find the key, decrypt the message.\n",
    "\n",
    "You can do this by hand. But don't: write code to do it for you.\n",
    "\n",
    "How? Devise some method for \"scoring\" a piece of English plaintext. Character frequency is a good metric. Evaluate each output and choose the one with the best score. "
   ]
  },
  {
   "cell_type": "code",
   "execution_count": 43,
   "metadata": {},
   "outputs": [],
   "source": [
    "q3_input = \"1b37373331363f78151b7f2b783431333d78397828372d363c78373e783a393b3736\""
   ]
  },
  {
   "cell_type": "code",
   "execution_count": 60,
   "metadata": {},
   "outputs": [
    {
     "name": "stdout",
     "output_type": "stream",
     "text": [
      "[(1.0, b'Eiimoha&KE!u&jomc&g&vishb&i`&dgeih', 24.8701902521959, '^'),\n",
      " (1.0, b\"Cooking MC's like a pound of bacon\", 24.897939503798675, 'X'),\n",
      " (1.0, b\"Dhhlni`'JD t'knlb'f'whric'ha'efdhi\", 24.907463245489076, '_'),\n",
      " (1.0, b'Bnnjhof!LB&r!mhjd!`!qntoe!ng!c`bno', 24.924323470188977, 'Y'),\n",
      " (1.0, b'Maaeg`i.CM)}.bgek.o.~a{`j.ah.loma`', 24.933107074128294, 'V'),\n",
      " (1.0, b'Ammikle\"OA%q\"nkig\"c\"rmwlf\"md\"`caml', 24.93628527482034, 'Z'),\n",
      " (1.0, b'Hdd`bel+FH,x+gb`n+j+{d~eo+dm+ijhde', 24.937370049906836, 'S'),\n",
      " (1.0, b'@llhjmd#N@$p#ojhf#b#slvmg#le#ab`lm', 24.976439919483628, '['),\n",
      " (1.0, b'Gkkomjc$IG#w$hmoa$e$tkqj`$kb$fegkj', 24.978611066675533, '\\\\\\\\'),\n",
      " (1.0, b'Kggcafo(EK/{(dacm(i(xg}fl(gn(jikgf', 24.983066483231305, 'P'),\n",
      " (1.0, b'Nbbfdcj-@N*~-adfh-l-}bxci-bk-olnbc', 24.996553573995207, 'U'),\n",
      " (1.0, b'Jffb`gn)DJ.z)e`bl)h)yf|gm)fo)khjfg', 25.027247212536597, 'Q'),\n",
      " (1.0, b'Fjjnlkb%HF\"v%iln`%d%ujpka%jc%gdfjk', 25.02800925672079, ']'),\n",
      " (1.0, b'Txx|~yp7ZT0d7{~|r7v7gxbys7xq7uvtxy', 25.055512317673674, 'O'),\n",
      " (1.0, b'Vzz~|{r5XV2f5y|~p5t5ez`{q5zs5wtvz{', 25.067787537263776, 'M'),\n",
      " (1.0, b'\\\\pptvqx?R\\\\8l?svtz?~?opjq{?py?}~|pq', 25.0724473385565, 'G'),\n",
      " (1.0, b'Q}}y{|u2_Q5a2~{yw2s2b}g|v2}t2psq}|', 25.088607606467924, 'J')]\n"
     ]
    }
   ],
   "source": [
    "# XOR the input with each character\n",
    "xor_list = [set1.onebyte_xor(q3_input, i) for i in range(32, 127)]\n",
    "# Calculate the fractions of ASCII characters in the XORed outputs\n",
    "ascii_fracs = [set1.ascii_hex(xored) for xored in xor_list]\n",
    "# Calculate the rmse between the XORed letter frequency and English letter frequency\n",
    "xor_rmses = [set1.freq_rmse(set1.byte_to_str(xored)) for xored in xor_list]\n",
    "# Make list of the character used to XOR\n",
    "chars = [set1.byte_to_str(bytes([i])) for i in range(32, 127)]\n",
    "# Zip together the above lists and restrict to those that only produce ASCII output.\n",
    "ascii_only = [row for row in zip(ascii_fracs, xor_list, xor_rmses, chars) if row[0] > 0.99]\n",
    "\n",
    "pprint.pprint(sorted(ascii_only, key = lambda x: x[2]))"
   ]
  },
  {
   "cell_type": "markdown",
   "metadata": {},
   "source": [
    "# 4. Detect single-character XOR\n",
    "\n",
    "One of the 60-character strings in [this file](https://cryptopals.com/static/challenge-data/4.txt) has been encrypted by single-character XOR.\n",
    "\n",
    "Find it.\n",
    "\n",
    "(Your code from #3 should help.)\n"
   ]
  },
  {
   "cell_type": "code",
   "execution_count": 45,
   "metadata": {},
   "outputs": [],
   "source": [
    "import pprint"
   ]
  },
  {
   "cell_type": "code",
   "execution_count": null,
   "metadata": {},
   "outputs": [],
   "source": [
    "np.array([i for i in ba.a2b_hex(q2_input1)])"
   ]
  },
  {
   "cell_type": "code",
   "execution_count": null,
   "metadata": {},
   "outputs": [],
   "source": [
    "b\"!\"[0]"
   ]
  },
  {
   "cell_type": "code",
   "execution_count": null,
   "metadata": {},
   "outputs": [],
   "source": [
    "max(enumerate([1,2,3,4]), key = operator.itemgetter(1))"
   ]
  }
 ],
 "metadata": {
  "kernelspec": {
   "display_name": "Python 3",
   "language": "python",
   "name": "python3"
  },
  "language_info": {
   "codemirror_mode": {
    "name": "ipython",
    "version": 3
   },
   "file_extension": ".py",
   "mimetype": "text/x-python",
   "name": "python",
   "nbconvert_exporter": "python",
   "pygments_lexer": "ipython3",
   "version": "3.6.4"
  }
 },
 "nbformat": 4,
 "nbformat_minor": 2
}
