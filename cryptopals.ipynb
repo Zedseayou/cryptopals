{
 "cells": [
  {
   "cell_type": "code",
   "execution_count": 9,
   "metadata": {},
   "outputs": [],
   "source": [
    "import binascii as ba"
   ]
  },
  {
   "cell_type": "code",
   "execution_count": 10,
   "metadata": {},
   "outputs": [],
   "source": [
    "import os, sys\n",
    "home = os.path.dirname((os.path.abspath('__init__.py')))\n",
    "sys.path.append(home)"
   ]
  },
  {
   "cell_type": "code",
   "execution_count": 11,
   "metadata": {},
   "outputs": [
    {
     "data": {
      "text/plain": [
       "['',\n 'C:\\\\ProgramData\\\\Anaconda3\\\\python36.zip',\n 'C:\\\\ProgramData\\\\Anaconda3\\\\DLLs',\n 'C:\\\\ProgramData\\\\Anaconda3\\\\lib',\n 'C:\\\\ProgramData\\\\Anaconda3',\n 'C:\\\\ProgramData\\\\Anaconda3\\\\lib\\\\site-packages',\n 'C:\\\\ProgramData\\\\Anaconda3\\\\lib\\\\site-packages\\\\win32',\n 'C:\\\\ProgramData\\\\Anaconda3\\\\lib\\\\site-packages\\\\win32\\\\lib',\n 'C:\\\\ProgramData\\\\Anaconda3\\\\lib\\\\site-packages\\\\Pythonwin',\n 'C:\\\\ProgramData\\\\Anaconda3\\\\lib\\\\site-packages\\\\IPython\\\\extensions',\n 'C:\\\\Users\\\\Calum\\\\.ipython',\n 'C:\\\\Users\\\\Calum\\\\Documents',\n 'C:\\\\Users\\\\Calum\\\\Documents',\n 'C:\\\\Users\\\\Calum\\\\Documents']"
      ]
     },
     "execution_count": 11,
     "metadata": {},
     "output_type": "execute_result"
    }
   ],
   "source": [
    "sys.path"
   ]
  },
  {
   "cell_type": "heading",
   "metadata": {},
   "level": 1,
   "source": [
    "1. Convert hex to base64"
   ]
  },
  {
   "cell_type": "markdown",
   "metadata": {},
   "source": [
    "The string:\n",
    "\n",
    "    49276d206b696c6c696e6720796f757220627261696e206c696b65206120706f69736f6e6f7573206d757368726f6f6d\n",
    "\n",
    "Should produce:\n",
    "\n",
    "    SSdtIGtpbGxpbmcgeW91ciBicmFpbiBsaWtlIGEgcG9pc29ub3VzIG11c2hyb29t\n",
    "\n",
    "So go ahead and make that happen. You'll need to use this code for the rest of the exercises. "
   ]
  },
  {
   "cell_type": "code",
   "execution_count": 1,
   "metadata": {},
   "outputs": [],
   "source": [
    "q1_input = \"49276d206b696c6c696e6720796f757220627261696e206c696b65206120706f69736f6e6f7573206d757368726f6f6d\"\n",
    "q1_output = \"SSdtIGtpbGxpbmcgeW91ciBicmFpbiBsaWtlIGEgcG9pc29ub3VzIG11c2hyb29t\""
   ]
  },
  {
   "cell_type": "code",
   "execution_count": 2,
   "metadata": {},
   "outputs": [],
   "source": [
    "import binascii as ba"
   ]
  },
  {
   "cell_type": "code",
   "execution_count": 3,
   "metadata": {},
   "outputs": [
    {
     "name": "stdout",
     "output_type": "stream",
     "text": [
      "b'SSdtIGtpbGxpbmcgeW91ciBicmFpbiBsaWtlIGEgcG9pc29ub3VzIG11c2hyb29t'\n"
     ]
    },
    {
     "data": {
      "text/plain": [
       "True"
      ]
     },
     "execution_count": 3,
     "metadata": {},
     "output_type": "execute_result"
    }
   ],
   "source": [
    "def hex2b64(hexstr):\n",
    "    hex_bytes =  ba.a2b_hex(hexstr)\n",
    "    b64str = ba.b2a_base64(hex_bytes, newline = False)\n",
    "    return b64str\n",
    "\n",
    "def bytes2str(bytes_obj):\n",
    "    byte_string = str(bytes_obj)\n",
    "    return byte_string.rstrip(\"'\").lstrip(\"b'\")\n",
    "\n",
    "q1_ans = hex2b64(q1_input)\n",
    "print(q1_ans)\n",
    "bytes2str(q1_ans) == q1_output"
   ]
  },
  {
   "cell_type": "markdown",
   "metadata": {},
   "source": [
    "# 2. Fixed XOR\n",
    "\n",
    "Write a function that takes two equal-length buffers and produces their XOR combination.\n",
    "\n",
    "If your function works properly, then when you feed it the string:\n",
    "\n",
    "    1c0111001f010100061a024b53535009181c\n",
    "\n",
    "... after hex decoding, and when XOR'd against:\n",
    "\n",
    "    686974207468652062756c6c277320657965\n",
    "\n",
    "... should produce:\n",
    "\n",
    "    746865206b696420646f6e277420706c6179\n",
    "\n"
   ]
  },
  {
   "cell_type": "code",
   "execution_count": 4,
   "metadata": {},
   "outputs": [],
   "source": [
    "q2_input1 = \"1c0111001f010100061a024b53535009181c\"\n",
    "q2_input2 = \"686974207468652062756c6c277320657965\"\n",
    "q2_output = \"746865206b696420646f6e277420706c6179\""
   ]
  },
  {
   "cell_type": "code",
   "execution_count": 5,
   "metadata": {},
   "outputs": [
    {
     "name": "stdout",
     "output_type": "stream",
     "text": [
      "b'746865206b696420646f6e277420706c6179'\n"
     ]
    },
    {
     "data": {
      "text/plain": [
       "True"
      ]
     },
     "execution_count": 5,
     "metadata": {},
     "output_type": "execute_result"
    }
   ],
   "source": [
    "def fixed_xor(hexstr1, hexstr2):\n",
    "    assert len(hexstr1) == len(hexstr2), \"`hexstr1` and `hexstr2` are not equal length\"\n",
    "    bytes1, bytes2 = (ba.a2b_hex(str) for str in [hexstr1, hexstr2])\n",
    "    xor_int = [int(i[0] ^ i[1]) for i in zip(bytes1, bytes2)]\n",
    "    xor_hex = ba.b2a_hex(bytes(xor_int))\n",
    "    return xor_hex\n",
    "\n",
    "q2_ans = fixed_xor(q2_input1, q2_input2)\n",
    "print(q2_ans)\n",
    "bytes2str(q2_ans) == q2_output"
   ]
  },
  {
   "cell_type": "markdown",
   "metadata": {},
   "source": [
    "# 3. Single-byte XOR cipher\n",
    " The hex encoded string:\n",
    "\n",
    "     1b37373331363f78151b7f2b783431333d78397828372d363c78373e783a393b3736\n",
    "\n",
    "... has been XOR'd against a single character. Find the key, decrypt the message.\n",
    "\n",
    "You can do this by hand. But don't: write code to do it for you.\n",
    "\n",
    "How? Devise some method for \"scoring\" a piece of English plaintext. Character frequency is a good metric. Evaluate each output and choose the one with the best score. "
   ]
  },
  {
   "cell_type": "code",
   "execution_count": 6,
   "metadata": {},
   "outputs": [],
   "source": [
    "q3_input = \"1b37373331363f78151b7f2b783431333d78397828372d363c78373e783a393b3736\""
   ]
  },
  {
   "cell_type": "code",
   "execution_count": 41,
   "metadata": {},
   "outputs": [
    {
     "data": {
      "text/plain": [
       "[b'\\\\pptvqx?R\\\\8l?svtz?~?opjq{?py?}~|pq',\n",
       " b'Q}}y{|u2_Q5a2~{yw2s2b}g|v2}t2psq}|',\n",
       " b'Vzz~|{r5XV2f5y|~p5t5ez`{q5zs5wtvz{',\n",
       " b'Txx|~yp7ZT0d7{~|r7v7gxbys7xq7uvtxy',\n",
       " b'Kggcafo(EK/{(dacm(i(xg}fl(gn(jikgf',\n",
       " b'Jffb`gn)DJ.z)e`bl)h)yf|gm)fo)khjfg',\n",
       " b'Hdd`bel+FH,x+gb`n+j+{d~eo+dm+ijhde',\n",
       " b'Nbbfdcj-@N*~-adfh-l-}bxci-bk-olnbc',\n",
       " b'Maaeg`i.CM)}.bgek.o.~a{`j.ah.loma`',\n",
       " b\"Cooking MC's like a pound of bacon\",\n",
       " b'Bnnjhof!LB&r!mhjd!`!qntoe!ng!c`bno',\n",
       " b'Ammikle\"OA%q\"nkig\"c\"rmwlf\"md\"`caml',\n",
       " b'@llhjmd#N@$p#ojhf#b#slvmg#le#ab`lm',\n",
       " b'Gkkomjc$IG#w$hmoa$e$tkqj`$kb$fegkj',\n",
       " b'Fjjnlkb%HF\"v%iln`%d%ujpka%jc%gdfjk',\n",
       " b'Eiimoha&KE!u&jomc&g&vishb&i`&dgeih',\n",
       " b\"Dhhlni`'JD t'knlb'f'whric'ha'efdhi\"]"
      ]
     },
     "execution_count": 41,
     "metadata": {},
     "output_type": "execute_result"
    }
   ],
   "source": [
    "def onebyte_xor(hexstr, char_int):\n",
    "    assert isinstance(hexstr, str), \"`hexstr` is not str type\"\n",
    "    assert isinstance(char_int, int), \"`char_int` is not int type\"\n",
    "    assert char_int in range(256), \"`char_int` is not a single byte\" \n",
    "    str_byte = ba.a2b_hex(hexstr)\n",
    "    xor_int = [int(char_int ^ i) for i in str_byte]\n",
    "    xor_hex = bytes(xor_int)\n",
    "    return xor_hex\n",
    "\n",
    "def score_hex(byte_hex):\n",
    "    assert isinstance(byte_hex, bytes), \"`byte_hex` is not bytes type\"\n",
    "    num_ascii = sum([byte_hex[i] in range(32, 127) for i in range(len(byte_hex))])\n",
    "    return num_ascii / len(byte_hex)\n",
    "\n",
    "# [onebyte_xor(q3_input, i) for i in range(256)]\n",
    "scores = [score_hex(onebyte_xor(q3_input, i)) for i in range(256)]\n",
    "xoreds = [onebyte_xor(q3_input, i) for i in range(256)]\n",
    "[pair[1] for pair in zip(scores, xoreds) if pair[0] == 1]\n",
    "# onebyte_xor(q3_input, 37)"
   ]
  },
  {
   "cell_type": "code",
   "execution_count": 8,
   "metadata": {},
   "outputs": [
    {
     "data": {
      "text/plain": [
       "True"
      ]
     },
     "execution_count": 8,
     "metadata": {},
     "output_type": "execute_result"
    }
   ],
   "source": [
    "isinstance(onebyte_xor(q3_input, 40), bytes)"
   ]
  },
  {
   "cell_type": "code",
   "execution_count": 9,
   "metadata": {},
   "outputs": [
    {
     "data": {
      "text/plain": [
       "b' !\"#$%&\\'()*+,-./0123456789:;<=>?@ABCDEFGHIJKLMNOPQRSTUVWXYZ[\\\\]^_`abcdefghijklmnopqrstuvwxyz{|}~'"
      ]
     },
     "execution_count": 9,
     "metadata": {},
     "output_type": "execute_result"
    }
   ],
   "source": [
    "bytes([int(i) for i in range(32, 127)])"
   ]
  },
  {
   "cell_type": "code",
   "execution_count": 14,
   "metadata": {},
   "outputs": [
    {
     "data": {
      "text/plain": [
       "10"
      ]
     },
     "execution_count": 14,
     "metadata": {},
     "output_type": "execute_result"
    }
   ],
   "source": [
    "sum([i in range(10) for i in range(20)])"
   ]
  }
 ],
 "metadata": {
  "kernelspec": {
   "display_name": "Python 3",
   "language": "python",
   "name": "python3"
  },
  "language_info": {
   "codemirror_mode": {
    "name": "ipython",
    "version": 3
   },
   "file_extension": ".py",
   "mimetype": "text/x-python",
   "name": "python",
   "nbconvert_exporter": "python",
   "pygments_lexer": "ipython3",
   "version": "3.6.4"
  }
 },
 "nbformat": 4,
 "nbformat_minor": 2
}
